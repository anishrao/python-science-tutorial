{
 "cells": [
  {
   "cell_type": "code",
   "execution_count": 1,
   "id": "33fe988c-5171-4907-90f7-5f8fc4734847",
   "metadata": {},
   "outputs": [],
   "source": [
    "# import packages\n",
    "import pandas as pd\n",
    "import numpy as np\n",
    "import plotly.graph_objects as go"
   ]
  },
  {
   "cell_type": "code",
   "execution_count": 2,
   "id": "5ccc2b60-054a-4967-8561-218fb3b2f0bf",
   "metadata": {},
   "outputs": [],
   "source": [
    "# create dummy data\n",
    "vals = np.ceil(100 * np.random.rand(5)).astype(int)\n",
    "keys = [\"A\", \"B\", \"C\", \"D\", \"E\"]"
   ]
  },
  {
   "cell_type": "code",
   "execution_count": 34,
   "id": "c46eb575-85b4-4347-9694-dcc2a4f529e3",
   "metadata": {},
   "outputs": [
    {
     "data": {
      "application/vnd.plotly.v1+json": {
       "config": {
        "plotlyServerURL": "https://plotly.com"
       },
       "data": [
        {
         "hovertemplate": "<b>Key:</b> %{x}<br><b>Value:</b> %{y}<extra></extra>",
         "textposition": "outside",
         "texttemplate": "%{y}",
         "type": "bar",
         "x": [
          "A",
          "B",
          "C",
          "D",
          "E"
         ],
         "y": [
          70,
          28,
          60,
          79,
          81
         ]
        }
       ],
       "layout": {
        "font": {
         "family": "Averta"
        },
        "height": 600,
        "hoverlabel": {
         "font": {
          "family": "Averta",
          "size": 16
         }
        },
        "template": {
         "data": {
          "bar": [
           {
            "error_x": {
             "color": "#2a3f5f"
            },
            "error_y": {
             "color": "#2a3f5f"
            },
            "marker": {
             "line": {
              "color": "#E5ECF6",
              "width": 0.5
             },
             "pattern": {
              "fillmode": "overlay",
              "size": 10,
              "solidity": 0.2
             }
            },
            "type": "bar"
           }
          ],
          "barpolar": [
           {
            "marker": {
             "line": {
              "color": "#E5ECF6",
              "width": 0.5
             },
             "pattern": {
              "fillmode": "overlay",
              "size": 10,
              "solidity": 0.2
             }
            },
            "type": "barpolar"
           }
          ],
          "carpet": [
           {
            "aaxis": {
             "endlinecolor": "#2a3f5f",
             "gridcolor": "white",
             "linecolor": "white",
             "minorgridcolor": "white",
             "startlinecolor": "#2a3f5f"
            },
            "baxis": {
             "endlinecolor": "#2a3f5f",
             "gridcolor": "white",
             "linecolor": "white",
             "minorgridcolor": "white",
             "startlinecolor": "#2a3f5f"
            },
            "type": "carpet"
           }
          ],
          "choropleth": [
           {
            "colorbar": {
             "outlinewidth": 0,
             "ticks": ""
            },
            "type": "choropleth"
           }
          ],
          "contour": [
           {
            "colorbar": {
             "outlinewidth": 0,
             "ticks": ""
            },
            "colorscale": [
             [
              0,
              "#0d0887"
             ],
             [
              0.1111111111111111,
              "#46039f"
             ],
             [
              0.2222222222222222,
              "#7201a8"
             ],
             [
              0.3333333333333333,
              "#9c179e"
             ],
             [
              0.4444444444444444,
              "#bd3786"
             ],
             [
              0.5555555555555556,
              "#d8576b"
             ],
             [
              0.6666666666666666,
              "#ed7953"
             ],
             [
              0.7777777777777778,
              "#fb9f3a"
             ],
             [
              0.8888888888888888,
              "#fdca26"
             ],
             [
              1,
              "#f0f921"
             ]
            ],
            "type": "contour"
           }
          ],
          "contourcarpet": [
           {
            "colorbar": {
             "outlinewidth": 0,
             "ticks": ""
            },
            "type": "contourcarpet"
           }
          ],
          "heatmap": [
           {
            "colorbar": {
             "outlinewidth": 0,
             "ticks": ""
            },
            "colorscale": [
             [
              0,
              "#0d0887"
             ],
             [
              0.1111111111111111,
              "#46039f"
             ],
             [
              0.2222222222222222,
              "#7201a8"
             ],
             [
              0.3333333333333333,
              "#9c179e"
             ],
             [
              0.4444444444444444,
              "#bd3786"
             ],
             [
              0.5555555555555556,
              "#d8576b"
             ],
             [
              0.6666666666666666,
              "#ed7953"
             ],
             [
              0.7777777777777778,
              "#fb9f3a"
             ],
             [
              0.8888888888888888,
              "#fdca26"
             ],
             [
              1,
              "#f0f921"
             ]
            ],
            "type": "heatmap"
           }
          ],
          "heatmapgl": [
           {
            "colorbar": {
             "outlinewidth": 0,
             "ticks": ""
            },
            "colorscale": [
             [
              0,
              "#0d0887"
             ],
             [
              0.1111111111111111,
              "#46039f"
             ],
             [
              0.2222222222222222,
              "#7201a8"
             ],
             [
              0.3333333333333333,
              "#9c179e"
             ],
             [
              0.4444444444444444,
              "#bd3786"
             ],
             [
              0.5555555555555556,
              "#d8576b"
             ],
             [
              0.6666666666666666,
              "#ed7953"
             ],
             [
              0.7777777777777778,
              "#fb9f3a"
             ],
             [
              0.8888888888888888,
              "#fdca26"
             ],
             [
              1,
              "#f0f921"
             ]
            ],
            "type": "heatmapgl"
           }
          ],
          "histogram": [
           {
            "marker": {
             "pattern": {
              "fillmode": "overlay",
              "size": 10,
              "solidity": 0.2
             }
            },
            "type": "histogram"
           }
          ],
          "histogram2d": [
           {
            "colorbar": {
             "outlinewidth": 0,
             "ticks": ""
            },
            "colorscale": [
             [
              0,
              "#0d0887"
             ],
             [
              0.1111111111111111,
              "#46039f"
             ],
             [
              0.2222222222222222,
              "#7201a8"
             ],
             [
              0.3333333333333333,
              "#9c179e"
             ],
             [
              0.4444444444444444,
              "#bd3786"
             ],
             [
              0.5555555555555556,
              "#d8576b"
             ],
             [
              0.6666666666666666,
              "#ed7953"
             ],
             [
              0.7777777777777778,
              "#fb9f3a"
             ],
             [
              0.8888888888888888,
              "#fdca26"
             ],
             [
              1,
              "#f0f921"
             ]
            ],
            "type": "histogram2d"
           }
          ],
          "histogram2dcontour": [
           {
            "colorbar": {
             "outlinewidth": 0,
             "ticks": ""
            },
            "colorscale": [
             [
              0,
              "#0d0887"
             ],
             [
              0.1111111111111111,
              "#46039f"
             ],
             [
              0.2222222222222222,
              "#7201a8"
             ],
             [
              0.3333333333333333,
              "#9c179e"
             ],
             [
              0.4444444444444444,
              "#bd3786"
             ],
             [
              0.5555555555555556,
              "#d8576b"
             ],
             [
              0.6666666666666666,
              "#ed7953"
             ],
             [
              0.7777777777777778,
              "#fb9f3a"
             ],
             [
              0.8888888888888888,
              "#fdca26"
             ],
             [
              1,
              "#f0f921"
             ]
            ],
            "type": "histogram2dcontour"
           }
          ],
          "mesh3d": [
           {
            "colorbar": {
             "outlinewidth": 0,
             "ticks": ""
            },
            "type": "mesh3d"
           }
          ],
          "parcoords": [
           {
            "line": {
             "colorbar": {
              "outlinewidth": 0,
              "ticks": ""
             }
            },
            "type": "parcoords"
           }
          ],
          "pie": [
           {
            "automargin": true,
            "type": "pie"
           }
          ],
          "scatter": [
           {
            "marker": {
             "colorbar": {
              "outlinewidth": 0,
              "ticks": ""
             }
            },
            "type": "scatter"
           }
          ],
          "scatter3d": [
           {
            "line": {
             "colorbar": {
              "outlinewidth": 0,
              "ticks": ""
             }
            },
            "marker": {
             "colorbar": {
              "outlinewidth": 0,
              "ticks": ""
             }
            },
            "type": "scatter3d"
           }
          ],
          "scattercarpet": [
           {
            "marker": {
             "colorbar": {
              "outlinewidth": 0,
              "ticks": ""
             }
            },
            "type": "scattercarpet"
           }
          ],
          "scattergeo": [
           {
            "marker": {
             "colorbar": {
              "outlinewidth": 0,
              "ticks": ""
             }
            },
            "type": "scattergeo"
           }
          ],
          "scattergl": [
           {
            "marker": {
             "colorbar": {
              "outlinewidth": 0,
              "ticks": ""
             }
            },
            "type": "scattergl"
           }
          ],
          "scattermapbox": [
           {
            "marker": {
             "colorbar": {
              "outlinewidth": 0,
              "ticks": ""
             }
            },
            "type": "scattermapbox"
           }
          ],
          "scatterpolar": [
           {
            "marker": {
             "colorbar": {
              "outlinewidth": 0,
              "ticks": ""
             }
            },
            "type": "scatterpolar"
           }
          ],
          "scatterpolargl": [
           {
            "marker": {
             "colorbar": {
              "outlinewidth": 0,
              "ticks": ""
             }
            },
            "type": "scatterpolargl"
           }
          ],
          "scatterternary": [
           {
            "marker": {
             "colorbar": {
              "outlinewidth": 0,
              "ticks": ""
             }
            },
            "type": "scatterternary"
           }
          ],
          "surface": [
           {
            "colorbar": {
             "outlinewidth": 0,
             "ticks": ""
            },
            "colorscale": [
             [
              0,
              "#0d0887"
             ],
             [
              0.1111111111111111,
              "#46039f"
             ],
             [
              0.2222222222222222,
              "#7201a8"
             ],
             [
              0.3333333333333333,
              "#9c179e"
             ],
             [
              0.4444444444444444,
              "#bd3786"
             ],
             [
              0.5555555555555556,
              "#d8576b"
             ],
             [
              0.6666666666666666,
              "#ed7953"
             ],
             [
              0.7777777777777778,
              "#fb9f3a"
             ],
             [
              0.8888888888888888,
              "#fdca26"
             ],
             [
              1,
              "#f0f921"
             ]
            ],
            "type": "surface"
           }
          ],
          "table": [
           {
            "cells": {
             "fill": {
              "color": "#EBF0F8"
             },
             "line": {
              "color": "white"
             }
            },
            "header": {
             "fill": {
              "color": "#C8D4E3"
             },
             "line": {
              "color": "white"
             }
            },
            "type": "table"
           }
          ]
         },
         "layout": {
          "annotationdefaults": {
           "arrowcolor": "#2a3f5f",
           "arrowhead": 0,
           "arrowwidth": 1
          },
          "autotypenumbers": "strict",
          "coloraxis": {
           "colorbar": {
            "outlinewidth": 0,
            "ticks": ""
           }
          },
          "colorscale": {
           "diverging": [
            [
             0,
             "#8e0152"
            ],
            [
             0.1,
             "#c51b7d"
            ],
            [
             0.2,
             "#de77ae"
            ],
            [
             0.3,
             "#f1b6da"
            ],
            [
             0.4,
             "#fde0ef"
            ],
            [
             0.5,
             "#f7f7f7"
            ],
            [
             0.6,
             "#e6f5d0"
            ],
            [
             0.7,
             "#b8e186"
            ],
            [
             0.8,
             "#7fbc41"
            ],
            [
             0.9,
             "#4d9221"
            ],
            [
             1,
             "#276419"
            ]
           ],
           "sequential": [
            [
             0,
             "#0d0887"
            ],
            [
             0.1111111111111111,
             "#46039f"
            ],
            [
             0.2222222222222222,
             "#7201a8"
            ],
            [
             0.3333333333333333,
             "#9c179e"
            ],
            [
             0.4444444444444444,
             "#bd3786"
            ],
            [
             0.5555555555555556,
             "#d8576b"
            ],
            [
             0.6666666666666666,
             "#ed7953"
            ],
            [
             0.7777777777777778,
             "#fb9f3a"
            ],
            [
             0.8888888888888888,
             "#fdca26"
            ],
            [
             1,
             "#f0f921"
            ]
           ],
           "sequentialminus": [
            [
             0,
             "#0d0887"
            ],
            [
             0.1111111111111111,
             "#46039f"
            ],
            [
             0.2222222222222222,
             "#7201a8"
            ],
            [
             0.3333333333333333,
             "#9c179e"
            ],
            [
             0.4444444444444444,
             "#bd3786"
            ],
            [
             0.5555555555555556,
             "#d8576b"
            ],
            [
             0.6666666666666666,
             "#ed7953"
            ],
            [
             0.7777777777777778,
             "#fb9f3a"
            ],
            [
             0.8888888888888888,
             "#fdca26"
            ],
            [
             1,
             "#f0f921"
            ]
           ]
          },
          "colorway": [
           "#636efa",
           "#EF553B",
           "#00cc96",
           "#ab63fa",
           "#FFA15A",
           "#19d3f3",
           "#FF6692",
           "#B6E880",
           "#FF97FF",
           "#FECB52"
          ],
          "font": {
           "color": "#2a3f5f"
          },
          "geo": {
           "bgcolor": "white",
           "lakecolor": "white",
           "landcolor": "#E5ECF6",
           "showlakes": true,
           "showland": true,
           "subunitcolor": "white"
          },
          "hoverlabel": {
           "align": "left"
          },
          "hovermode": "closest",
          "mapbox": {
           "style": "light"
          },
          "paper_bgcolor": "white",
          "plot_bgcolor": "#E5ECF6",
          "polar": {
           "angularaxis": {
            "gridcolor": "white",
            "linecolor": "white",
            "ticks": ""
           },
           "bgcolor": "#E5ECF6",
           "radialaxis": {
            "gridcolor": "white",
            "linecolor": "white",
            "ticks": ""
           }
          },
          "scene": {
           "xaxis": {
            "backgroundcolor": "#E5ECF6",
            "gridcolor": "white",
            "gridwidth": 2,
            "linecolor": "white",
            "showbackground": true,
            "ticks": "",
            "zerolinecolor": "white"
           },
           "yaxis": {
            "backgroundcolor": "#E5ECF6",
            "gridcolor": "white",
            "gridwidth": 2,
            "linecolor": "white",
            "showbackground": true,
            "ticks": "",
            "zerolinecolor": "white"
           },
           "zaxis": {
            "backgroundcolor": "#E5ECF6",
            "gridcolor": "white",
            "gridwidth": 2,
            "linecolor": "white",
            "showbackground": true,
            "ticks": "",
            "zerolinecolor": "white"
           }
          },
          "shapedefaults": {
           "line": {
            "color": "#2a3f5f"
           }
          },
          "ternary": {
           "aaxis": {
            "gridcolor": "white",
            "linecolor": "white",
            "ticks": ""
           },
           "baxis": {
            "gridcolor": "white",
            "linecolor": "white",
            "ticks": ""
           },
           "bgcolor": "#E5ECF6",
           "caxis": {
            "gridcolor": "white",
            "linecolor": "white",
            "ticks": ""
           }
          },
          "title": {
           "x": 0.05
          },
          "xaxis": {
           "automargin": true,
           "gridcolor": "white",
           "linecolor": "white",
           "ticks": "",
           "title": {
            "standoff": 15
           },
           "zerolinecolor": "white",
           "zerolinewidth": 2
          },
          "yaxis": {
           "automargin": true,
           "gridcolor": "white",
           "linecolor": "white",
           "ticks": "",
           "title": {
            "standoff": 15
           },
           "zerolinecolor": "white",
           "zerolinewidth": 2
          }
         }
        },
        "title": {
         "text": "Bar Chart of Key-Value Pairs"
        },
        "width": 600,
        "xaxis": {
         "autorange": true,
         "range": [
          -0.5,
          4.5
         ],
         "tickfont": {
          "size": 16
         },
         "title": {
          "font": {
           "size": 18
          },
          "text": "Keys"
         },
         "type": "category"
        },
        "yaxis": {
         "autorange": true,
         "range": [
          0,
          85.26315789473684
         ],
         "tickfont": {
          "size": 16
         },
         "title": {
          "font": {
           "size": 18
          },
          "text": "Values"
         },
         "type": "linear"
        }
       }
      },
      "image/png": "[encoded data removed]",
      "text/html": [
       "<div>                            <div id=\"999b0b78-41b3-4a38-a3cb-b94e2c37b59d\" class=\"plotly-graph-div\" style=\"height:600px; width:600px;\"></div>            <script type=\"text/javascript\">                require([\"plotly\"], function(Plotly) {                    window.PLOTLYENV=window.PLOTLYENV || {};                                    if (document.getElementById(\"999b0b78-41b3-4a38-a3cb-b94e2c37b59d\")) {                    Plotly.newPlot(                        \"999b0b78-41b3-4a38-a3cb-b94e2c37b59d\",                        [{\"hovertemplate\":\"<b>Key:</b> %{x}<br><b>Value:</b> %{y}<extra></extra>\",\"textposition\":\"outside\",\"texttemplate\":\"%{y}\",\"x\":[\"A\",\"B\",\"C\",\"D\",\"E\"],\"y\":[70,28,60,79,81],\"type\":\"bar\"}],                        {\"template\":{\"data\":{\"bar\":[{\"error_x\":{\"color\":\"#2a3f5f\"},\"error_y\":{\"color\":\"#2a3f5f\"},\"marker\":{\"line\":{\"color\":\"#E5ECF6\",\"width\":0.5},\"pattern\":{\"fillmode\":\"overlay\",\"size\":10,\"solidity\":0.2}},\"type\":\"bar\"}],\"barpolar\":[{\"marker\":{\"line\":{\"color\":\"#E5ECF6\",\"width\":0.5},\"pattern\":{\"fillmode\":\"overlay\",\"size\":10,\"solidity\":0.2}},\"type\":\"barpolar\"}],\"carpet\":[{\"aaxis\":{\"endlinecolor\":\"#2a3f5f\",\"gridcolor\":\"white\",\"linecolor\":\"white\",\"minorgridcolor\":\"white\",\"startlinecolor\":\"#2a3f5f\"},\"baxis\":{\"endlinecolor\":\"#2a3f5f\",\"gridcolor\":\"white\",\"linecolor\":\"white\",\"minorgridcolor\":\"white\",\"startlinecolor\":\"#2a3f5f\"},\"type\":\"carpet\"}],\"choropleth\":[{\"colorbar\":{\"outlinewidth\":0,\"ticks\":\"\"},\"type\":\"choropleth\"}],\"contour\":[{\"colorbar\":{\"outlinewidth\":0,\"ticks\":\"\"},\"colorscale\":[[0.0,\"#0d0887\"],[0.1111111111111111,\"#46039f\"],[0.2222222222222222,\"#7201a8\"],[0.3333333333333333,\"#9c179e\"],[0.4444444444444444,\"#bd3786\"],[0.5555555555555556,\"#d8576b\"],[0.6666666666666666,\"#ed7953\"],[0.7777777777777778,\"#fb9f3a\"],[0.8888888888888888,\"#fdca26\"],[1.0,\"#f0f921\"]],\"type\":\"contour\"}],\"contourcarpet\":[{\"colorbar\":{\"outlinewidth\":0,\"ticks\":\"\"},\"type\":\"contourcarpet\"}],\"heatmap\":[{\"colorbar\":{\"outlinewidth\":0,\"ticks\":\"\"},\"colorscale\":[[0.0,\"#0d0887\"],[0.1111111111111111,\"#46039f\"],[0.2222222222222222,\"#7201a8\"],[0.3333333333333333,\"#9c179e\"],[0.4444444444444444,\"#bd3786\"],[0.5555555555555556,\"#d8576b\"],[0.6666666666666666,\"#ed7953\"],[0.7777777777777778,\"#fb9f3a\"],[0.8888888888888888,\"#fdca26\"],[1.0,\"#f0f921\"]],\"type\":\"heatmap\"}],\"heatmapgl\":[{\"colorbar\":{\"outlinewidth\":0,\"ticks\":\"\"},\"colorscale\":[[0.0,\"#0d0887\"],[0.1111111111111111,\"#46039f\"],[0.2222222222222222,\"#7201a8\"],[0.3333333333333333,\"#9c179e\"],[0.4444444444444444,\"#bd3786\"],[0.5555555555555556,\"#d8576b\"],[0.6666666666666666,\"#ed7953\"],[0.7777777777777778,\"#fb9f3a\"],[0.8888888888888888,\"#fdca26\"],[1.0,\"#f0f921\"]],\"type\":\"heatmapgl\"}],\"histogram\":[{\"marker\":{\"pattern\":{\"fillmode\":\"overlay\",\"size\":10,\"solidity\":0.2}},\"type\":\"histogram\"}],\"histogram2d\":[{\"colorbar\":{\"outlinewidth\":0,\"ticks\":\"\"},\"colorscale\":[[0.0,\"#0d0887\"],[0.1111111111111111,\"#46039f\"],[0.2222222222222222,\"#7201a8\"],[0.3333333333333333,\"#9c179e\"],[0.4444444444444444,\"#bd3786\"],[0.5555555555555556,\"#d8576b\"],[0.6666666666666666,\"#ed7953\"],[0.7777777777777778,\"#fb9f3a\"],[0.8888888888888888,\"#fdca26\"],[1.0,\"#f0f921\"]],\"type\":\"histogram2d\"}],\"histogram2dcontour\":[{\"colorbar\":{\"outlinewidth\":0,\"ticks\":\"\"},\"colorscale\":[[0.0,\"#0d0887\"],[0.1111111111111111,\"#46039f\"],[0.2222222222222222,\"#7201a8\"],[0.3333333333333333,\"#9c179e\"],[0.4444444444444444,\"#bd3786\"],[0.5555555555555556,\"#d8576b\"],[0.6666666666666666,\"#ed7953\"],[0.7777777777777778,\"#fb9f3a\"],[0.8888888888888888,\"#fdca26\"],[1.0,\"#f0f921\"]],\"type\":\"histogram2dcontour\"}],\"mesh3d\":[{\"colorbar\":{\"outlinewidth\":0,\"ticks\":\"\"},\"type\":\"mesh3d\"}],\"parcoords\":[{\"line\":{\"colorbar\":{\"outlinewidth\":0,\"ticks\":\"\"}},\"type\":\"parcoords\"}],\"pie\":[{\"automargin\":true,\"type\":\"pie\"}],\"scatter\":[{\"marker\":{\"colorbar\":{\"outlinewidth\":0,\"ticks\":\"\"}},\"type\":\"scatter\"}],\"scatter3d\":[{\"line\":{\"colorbar\":{\"outlinewidth\":0,\"ticks\":\"\"}},\"marker\":{\"colorbar\":{\"outlinewidth\":0,\"ticks\":\"\"}},\"type\":\"scatter3d\"}],\"scattercarpet\":[{\"marker\":{\"colorbar\":{\"outlinewidth\":0,\"ticks\":\"\"}},\"type\":\"scattercarpet\"}],\"scattergeo\":[{\"marker\":{\"colorbar\":{\"outlinewidth\":0,\"ticks\":\"\"}},\"type\":\"scattergeo\"}],\"scattergl\":[{\"marker\":{\"colorbar\":{\"outlinewidth\":0,\"ticks\":\"\"}},\"type\":\"scattergl\"}],\"scattermapbox\":[{\"marker\":{\"colorbar\":{\"outlinewidth\":0,\"ticks\":\"\"}},\"type\":\"scattermapbox\"}],\"scatterpolar\":[{\"marker\":{\"colorbar\":{\"outlinewidth\":0,\"ticks\":\"\"}},\"type\":\"scatterpolar\"}],\"scatterpolargl\":[{\"marker\":{\"colorbar\":{\"outlinewidth\":0,\"ticks\":\"\"}},\"type\":\"scatterpolargl\"}],\"scatterternary\":[{\"marker\":{\"colorbar\":{\"outlinewidth\":0,\"ticks\":\"\"}},\"type\":\"scatterternary\"}],\"surface\":[{\"colorbar\":{\"outlinewidth\":0,\"ticks\":\"\"},\"colorscale\":[[0.0,\"#0d0887\"],[0.1111111111111111,\"#46039f\"],[0.2222222222222222,\"#7201a8\"],[0.3333333333333333,\"#9c179e\"],[0.4444444444444444,\"#bd3786\"],[0.5555555555555556,\"#d8576b\"],[0.6666666666666666,\"#ed7953\"],[0.7777777777777778,\"#fb9f3a\"],[0.8888888888888888,\"#fdca26\"],[1.0,\"#f0f921\"]],\"type\":\"surface\"}],\"table\":[{\"cells\":{\"fill\":{\"color\":\"#EBF0F8\"},\"line\":{\"color\":\"white\"}},\"header\":{\"fill\":{\"color\":\"#C8D4E3\"},\"line\":{\"color\":\"white\"}},\"type\":\"table\"}]},\"layout\":{\"annotationdefaults\":{\"arrowcolor\":\"#2a3f5f\",\"arrowhead\":0,\"arrowwidth\":1},\"autotypenumbers\":\"strict\",\"coloraxis\":{\"colorbar\":{\"outlinewidth\":0,\"ticks\":\"\"}},\"colorscale\":{\"diverging\":[[0,\"#8e0152\"],[0.1,\"#c51b7d\"],[0.2,\"#de77ae\"],[0.3,\"#f1b6da\"],[0.4,\"#fde0ef\"],[0.5,\"#f7f7f7\"],[0.6,\"#e6f5d0\"],[0.7,\"#b8e186\"],[0.8,\"#7fbc41\"],[0.9,\"#4d9221\"],[1,\"#276419\"]],\"sequential\":[[0.0,\"#0d0887\"],[0.1111111111111111,\"#46039f\"],[0.2222222222222222,\"#7201a8\"],[0.3333333333333333,\"#9c179e\"],[0.4444444444444444,\"#bd3786\"],[0.5555555555555556,\"#d8576b\"],[0.6666666666666666,\"#ed7953\"],[0.7777777777777778,\"#fb9f3a\"],[0.8888888888888888,\"#fdca26\"],[1.0,\"#f0f921\"]],\"sequentialminus\":[[0.0,\"#0d0887\"],[0.1111111111111111,\"#46039f\"],[0.2222222222222222,\"#7201a8\"],[0.3333333333333333,\"#9c179e\"],[0.4444444444444444,\"#bd3786\"],[0.5555555555555556,\"#d8576b\"],[0.6666666666666666,\"#ed7953\"],[0.7777777777777778,\"#fb9f3a\"],[0.8888888888888888,\"#fdca26\"],[1.0,\"#f0f921\"]]},\"colorway\":[\"#636efa\",\"#EF553B\",\"#00cc96\",\"#ab63fa\",\"#FFA15A\",\"#19d3f3\",\"#FF6692\",\"#B6E880\",\"#FF97FF\",\"#FECB52\"],\"font\":{\"color\":\"#2a3f5f\"},\"geo\":{\"bgcolor\":\"white\",\"lakecolor\":\"white\",\"landcolor\":\"#E5ECF6\",\"showlakes\":true,\"showland\":true,\"subunitcolor\":\"white\"},\"hoverlabel\":{\"align\":\"left\"},\"hovermode\":\"closest\",\"mapbox\":{\"style\":\"light\"},\"paper_bgcolor\":\"white\",\"plot_bgcolor\":\"#E5ECF6\",\"polar\":{\"angularaxis\":{\"gridcolor\":\"white\",\"linecolor\":\"white\",\"ticks\":\"\"},\"bgcolor\":\"#E5ECF6\",\"radialaxis\":{\"gridcolor\":\"white\",\"linecolor\":\"white\",\"ticks\":\"\"}},\"scene\":{\"xaxis\":{\"backgroundcolor\":\"#E5ECF6\",\"gridcolor\":\"white\",\"gridwidth\":2,\"linecolor\":\"white\",\"showbackground\":true,\"ticks\":\"\",\"zerolinecolor\":\"white\"},\"yaxis\":{\"backgroundcolor\":\"#E5ECF6\",\"gridcolor\":\"white\",\"gridwidth\":2,\"linecolor\":\"white\",\"showbackground\":true,\"ticks\":\"\",\"zerolinecolor\":\"white\"},\"zaxis\":{\"backgroundcolor\":\"#E5ECF6\",\"gridcolor\":\"white\",\"gridwidth\":2,\"linecolor\":\"white\",\"showbackground\":true,\"ticks\":\"\",\"zerolinecolor\":\"white\"}},\"shapedefaults\":{\"line\":{\"color\":\"#2a3f5f\"}},\"ternary\":{\"aaxis\":{\"gridcolor\":\"white\",\"linecolor\":\"white\",\"ticks\":\"\"},\"baxis\":{\"gridcolor\":\"white\",\"linecolor\":\"white\",\"ticks\":\"\"},\"bgcolor\":\"#E5ECF6\",\"caxis\":{\"gridcolor\":\"white\",\"linecolor\":\"white\",\"ticks\":\"\"}},\"title\":{\"x\":0.05},\"xaxis\":{\"automargin\":true,\"gridcolor\":\"white\",\"linecolor\":\"white\",\"ticks\":\"\",\"title\":{\"standoff\":15},\"zerolinecolor\":\"white\",\"zerolinewidth\":2},\"yaxis\":{\"automargin\":true,\"gridcolor\":\"white\",\"linecolor\":\"white\",\"ticks\":\"\",\"title\":{\"standoff\":15},\"zerolinecolor\":\"white\",\"zerolinewidth\":2}}},\"font\":{\"family\":\"Averta\"},\"hoverlabel\":{\"font\":{\"family\":\"Averta\",\"size\":16}},\"title\":{\"text\":\"Bar Chart of Key-Value Pairs\"},\"xaxis\":{\"title\":{\"font\":{\"size\":18},\"text\":\"Keys\"},\"tickfont\":{\"size\":16}},\"yaxis\":{\"title\":{\"font\":{\"size\":18},\"text\":\"Values\"},\"tickfont\":{\"size\":16}},\"height\":600,\"width\":600},                        {\"responsive\": true}                    ).then(function(){\n",
       "                            \n",
       "var gd = document.getElementById('999b0b78-41b3-4a38-a3cb-b94e2c37b59d');\n",
       "var x = new MutationObserver(function (mutations, observer) {{\n",
       "        var display = window.getComputedStyle(gd).display;\n",
       "        if (!display || display === 'none') {{\n",
       "            console.log([gd, 'removed!']);\n",
       "            Plotly.purge(gd);\n",
       "            observer.disconnect();\n",
       "        }}\n",
       "}});\n",
       "\n",
       "// Listen for the removal of the full notebook cells\n",
       "var notebookContainer = gd.closest('#notebook-container');\n",
       "if (notebookContainer) {{\n",
       "    x.observe(notebookContainer, {childList: true});\n",
       "}}\n",
       "\n",
       "// Listen for the clearing of the current output cell\n",
       "var outputEl = gd.closest('.output');\n",
       "if (outputEl) {{\n",
       "    x.observe(outputEl, {childList: true});\n",
       "}}\n",
       "\n",
       "                        })                };                });            </script>        </div>"
      ]
     },
     "metadata": {},
     "output_type": "display_data"
    }
   ],
   "source": [
    "# create figure\n",
    "fig = go.Figure()\n",
    "\n",
    "# plot data\n",
    "fig.add_trace(\n",
    "    go.Bar(x=keys, y=vals, hovertemplate=\"<b>Key:</b> %{x}<br><b>Value:</b> %{y}<extra></extra>\")\n",
    ")\n",
    "\n",
    "# update layout\n",
    "fig.update_layout(\n",
    "    font_family=\"Averta\",\n",
    "    hoverlabel_font_family=\"Averta\",\n",
    "    title_text=\"Bar Chart of Key-Value Pairs\",\n",
    "    xaxis_title_text=\"Keys\",\n",
    "    xaxis_title_font_size=18,\n",
    "    xaxis_tickfont_size=16,\n",
    "    yaxis_title_text=\"Values\",\n",
    "    yaxis_title_font_size=18,\n",
    "    yaxis_tickfont_size=16,\n",
    "    hoverlabel_font_size=16,\n",
    "    height=600, \n",
    "    width=600\n",
    ")\n",
    "\n",
    "fig.show()"
   ]
  },
  {
   "cell_type": "code",
   "execution_count": 25,
   "id": "e2324a21-b4ba-4084-87c6-8b46d2e6ea53",
   "metadata": {},
   "outputs": [],
   "source": [
    "# create more dummy data\n",
    "vals_2 = np.ceil(100 * np.random.rand(5)).astype(int)\n",
    "vals_3 = np.ceil(100 * np.random.rand(5)).astype(int)\n",
    "\n",
    "vals_array = [vals, vals_2, vals_3]"
   ]
  },
  {
   "cell_type": "code",
   "execution_count": 29,
   "id": "acdfb17f-266e-4451-873e-8d7613ecc6ba",
   "metadata": {},
   "outputs": [
    {
     "data": {
      "application/vnd.plotly.v1+json": {
       "config": {
        "plotlyServerURL": "https://plotly.com"
       },
       "data": [
        {
         "hovertemplate": "<b>Group 1</b><br><b>Key:</b> %{x}<br><b>Value:</b> %{y}<extra></extra>",
         "name": "Group 1",
         "type": "bar",
         "x": [
          "A",
          "B",
          "C",
          "D",
          "E"
         ],
         "y": [
          56,
          2,
          5,
          17,
          71
         ]
        },
        {
         "hovertemplate": "<b>Group 2</b><br><b>Key:</b> %{x}<br><b>Value:</b> %{y}<extra></extra>",
         "name": "Group 2",
         "type": "bar",
         "x": [
          "A",
          "B",
          "C",
          "D",
          "E"
         ],
         "y": [
          22,
          22,
          23,
          82,
          4
         ]
        },
        {
         "hovertemplate": "<b>Group 3</b><br><b>Key:</b> %{x}<br><b>Value:</b> %{y}<extra></extra>",
         "name": "Group 3",
         "type": "bar",
         "x": [
          "A",
          "B",
          "C",
          "D",
          "E"
         ],
         "y": [
          70,
          28,
          60,
          79,
          81
         ]
        }
       ],
       "layout": {
        "barmode": "group",
        "font": {
         "family": "Averta"
        },
        "height": 600,
        "hoverlabel": {
         "font": {
          "family": "Averta",
          "size": 16
         }
        },
        "legend": {
         "font": {
          "size": 16
         }
        },
        "template": {
         "data": {
          "bar": [
           {
            "error_x": {
             "color": "#2a3f5f"
            },
            "error_y": {
             "color": "#2a3f5f"
            },
            "marker": {
             "line": {
              "color": "#E5ECF6",
              "width": 0.5
             },
             "pattern": {
              "fillmode": "overlay",
              "size": 10,
              "solidity": 0.2
             }
            },
            "type": "bar"
           }
          ],
          "barpolar": [
           {
            "marker": {
             "line": {
              "color": "#E5ECF6",
              "width": 0.5
             },
             "pattern": {
              "fillmode": "overlay",
              "size": 10,
              "solidity": 0.2
             }
            },
            "type": "barpolar"
           }
          ],
          "carpet": [
           {
            "aaxis": {
             "endlinecolor": "#2a3f5f",
             "gridcolor": "white",
             "linecolor": "white",
             "minorgridcolor": "white",
             "startlinecolor": "#2a3f5f"
            },
            "baxis": {
             "endlinecolor": "#2a3f5f",
             "gridcolor": "white",
             "linecolor": "white",
             "minorgridcolor": "white",
             "startlinecolor": "#2a3f5f"
            },
            "type": "carpet"
           }
          ],
          "choropleth": [
           {
            "colorbar": {
             "outlinewidth": 0,
             "ticks": ""
            },
            "type": "choropleth"
           }
          ],
          "contour": [
           {
            "colorbar": {
             "outlinewidth": 0,
             "ticks": ""
            },
            "colorscale": [
             [
              0,
              "#0d0887"
             ],
             [
              0.1111111111111111,
              "#46039f"
             ],
             [
              0.2222222222222222,
              "#7201a8"
             ],
             [
              0.3333333333333333,
              "#9c179e"
             ],
             [
              0.4444444444444444,
              "#bd3786"
             ],
             [
              0.5555555555555556,
              "#d8576b"
             ],
             [
              0.6666666666666666,
              "#ed7953"
             ],
             [
              0.7777777777777778,
              "#fb9f3a"
             ],
             [
              0.8888888888888888,
              "#fdca26"
             ],
             [
              1,
              "#f0f921"
             ]
            ],
            "type": "contour"
           }
          ],
          "contourcarpet": [
           {
            "colorbar": {
             "outlinewidth": 0,
             "ticks": ""
            },
            "type": "contourcarpet"
           }
          ],
          "heatmap": [
           {
            "colorbar": {
             "outlinewidth": 0,
             "ticks": ""
            },
            "colorscale": [
             [
              0,
              "#0d0887"
             ],
             [
              0.1111111111111111,
              "#46039f"
             ],
             [
              0.2222222222222222,
              "#7201a8"
             ],
             [
              0.3333333333333333,
              "#9c179e"
             ],
             [
              0.4444444444444444,
              "#bd3786"
             ],
             [
              0.5555555555555556,
              "#d8576b"
             ],
             [
              0.6666666666666666,
              "#ed7953"
             ],
             [
              0.7777777777777778,
              "#fb9f3a"
             ],
             [
              0.8888888888888888,
              "#fdca26"
             ],
             [
              1,
              "#f0f921"
             ]
            ],
            "type": "heatmap"
           }
          ],
          "heatmapgl": [
           {
            "colorbar": {
             "outlinewidth": 0,
             "ticks": ""
            },
            "colorscale": [
             [
              0,
              "#0d0887"
             ],
             [
              0.1111111111111111,
              "#46039f"
             ],
             [
              0.2222222222222222,
              "#7201a8"
             ],
             [
              0.3333333333333333,
              "#9c179e"
             ],
             [
              0.4444444444444444,
              "#bd3786"
             ],
             [
              0.5555555555555556,
              "#d8576b"
             ],
             [
              0.6666666666666666,
              "#ed7953"
             ],
             [
              0.7777777777777778,
              "#fb9f3a"
             ],
             [
              0.8888888888888888,
              "#fdca26"
             ],
             [
              1,
              "#f0f921"
             ]
            ],
            "type": "heatmapgl"
           }
          ],
          "histogram": [
           {
            "marker": {
             "pattern": {
              "fillmode": "overlay",
              "size": 10,
              "solidity": 0.2
             }
            },
            "type": "histogram"
           }
          ],
          "histogram2d": [
           {
            "colorbar": {
             "outlinewidth": 0,
             "ticks": ""
            },
            "colorscale": [
             [
              0,
              "#0d0887"
             ],
             [
              0.1111111111111111,
              "#46039f"
             ],
             [
              0.2222222222222222,
              "#7201a8"
             ],
             [
              0.3333333333333333,
              "#9c179e"
             ],
             [
              0.4444444444444444,
              "#bd3786"
             ],
             [
              0.5555555555555556,
              "#d8576b"
             ],
             [
              0.6666666666666666,
              "#ed7953"
             ],
             [
              0.7777777777777778,
              "#fb9f3a"
             ],
             [
              0.8888888888888888,
              "#fdca26"
             ],
             [
              1,
              "#f0f921"
             ]
            ],
            "type": "histogram2d"
           }
          ],
          "histogram2dcontour": [
           {
            "colorbar": {
             "outlinewidth": 0,
             "ticks": ""
            },
            "colorscale": [
             [
              0,
              "#0d0887"
             ],
             [
              0.1111111111111111,
              "#46039f"
             ],
             [
              0.2222222222222222,
              "#7201a8"
             ],
             [
              0.3333333333333333,
              "#9c179e"
             ],
             [
              0.4444444444444444,
              "#bd3786"
             ],
             [
              0.5555555555555556,
              "#d8576b"
             ],
             [
              0.6666666666666666,
              "#ed7953"
             ],
             [
              0.7777777777777778,
              "#fb9f3a"
             ],
             [
              0.8888888888888888,
              "#fdca26"
             ],
             [
              1,
              "#f0f921"
             ]
            ],
            "type": "histogram2dcontour"
           }
          ],
          "mesh3d": [
           {
            "colorbar": {
             "outlinewidth": 0,
             "ticks": ""
            },
            "type": "mesh3d"
           }
          ],
          "parcoords": [
           {
            "line": {
             "colorbar": {
              "outlinewidth": 0,
              "ticks": ""
             }
            },
            "type": "parcoords"
           }
          ],
          "pie": [
           {
            "automargin": true,
            "type": "pie"
           }
          ],
          "scatter": [
           {
            "marker": {
             "colorbar": {
              "outlinewidth": 0,
              "ticks": ""
             }
            },
            "type": "scatter"
           }
          ],
          "scatter3d": [
           {
            "line": {
             "colorbar": {
              "outlinewidth": 0,
              "ticks": ""
             }
            },
            "marker": {
             "colorbar": {
              "outlinewidth": 0,
              "ticks": ""
             }
            },
            "type": "scatter3d"
           }
          ],
          "scattercarpet": [
           {
            "marker": {
             "colorbar": {
              "outlinewidth": 0,
              "ticks": ""
             }
            },
            "type": "scattercarpet"
           }
          ],
          "scattergeo": [
           {
            "marker": {
             "colorbar": {
              "outlinewidth": 0,
              "ticks": ""
             }
            },
            "type": "scattergeo"
           }
          ],
          "scattergl": [
           {
            "marker": {
             "colorbar": {
              "outlinewidth": 0,
              "ticks": ""
             }
            },
            "type": "scattergl"
           }
          ],
          "scattermapbox": [
           {
            "marker": {
             "colorbar": {
              "outlinewidth": 0,
              "ticks": ""
             }
            },
            "type": "scattermapbox"
           }
          ],
          "scatterpolar": [
           {
            "marker": {
             "colorbar": {
              "outlinewidth": 0,
              "ticks": ""
             }
            },
            "type": "scatterpolar"
           }
          ],
          "scatterpolargl": [
           {
            "marker": {
             "colorbar": {
              "outlinewidth": 0,
              "ticks": ""
             }
            },
            "type": "scatterpolargl"
           }
          ],
          "scatterternary": [
           {
            "marker": {
             "colorbar": {
              "outlinewidth": 0,
              "ticks": ""
             }
            },
            "type": "scatterternary"
           }
          ],
          "surface": [
           {
            "colorbar": {
             "outlinewidth": 0,
             "ticks": ""
            },
            "colorscale": [
             [
              0,
              "#0d0887"
             ],
             [
              0.1111111111111111,
              "#46039f"
             ],
             [
              0.2222222222222222,
              "#7201a8"
             ],
             [
              0.3333333333333333,
              "#9c179e"
             ],
             [
              0.4444444444444444,
              "#bd3786"
             ],
             [
              0.5555555555555556,
              "#d8576b"
             ],
             [
              0.6666666666666666,
              "#ed7953"
             ],
             [
              0.7777777777777778,
              "#fb9f3a"
             ],
             [
              0.8888888888888888,
              "#fdca26"
             ],
             [
              1,
              "#f0f921"
             ]
            ],
            "type": "surface"
           }
          ],
          "table": [
           {
            "cells": {
             "fill": {
              "color": "#EBF0F8"
             },
             "line": {
              "color": "white"
             }
            },
            "header": {
             "fill": {
              "color": "#C8D4E3"
             },
             "line": {
              "color": "white"
             }
            },
            "type": "table"
           }
          ]
         },
         "layout": {
          "annotationdefaults": {
           "arrowcolor": "#2a3f5f",
           "arrowhead": 0,
           "arrowwidth": 1
          },
          "autotypenumbers": "strict",
          "coloraxis": {
           "colorbar": {
            "outlinewidth": 0,
            "ticks": ""
           }
          },
          "colorscale": {
           "diverging": [
            [
             0,
             "#8e0152"
            ],
            [
             0.1,
             "#c51b7d"
            ],
            [
             0.2,
             "#de77ae"
            ],
            [
             0.3,
             "#f1b6da"
            ],
            [
             0.4,
             "#fde0ef"
            ],
            [
             0.5,
             "#f7f7f7"
            ],
            [
             0.6,
             "#e6f5d0"
            ],
            [
             0.7,
             "#b8e186"
            ],
            [
             0.8,
             "#7fbc41"
            ],
            [
             0.9,
             "#4d9221"
            ],
            [
             1,
             "#276419"
            ]
           ],
           "sequential": [
            [
             0,
             "#0d0887"
            ],
            [
             0.1111111111111111,
             "#46039f"
            ],
            [
             0.2222222222222222,
             "#7201a8"
            ],
            [
             0.3333333333333333,
             "#9c179e"
            ],
            [
             0.4444444444444444,
             "#bd3786"
            ],
            [
             0.5555555555555556,
             "#d8576b"
            ],
            [
             0.6666666666666666,
             "#ed7953"
            ],
            [
             0.7777777777777778,
             "#fb9f3a"
            ],
            [
             0.8888888888888888,
             "#fdca26"
            ],
            [
             1,
             "#f0f921"
            ]
           ],
           "sequentialminus": [
            [
             0,
             "#0d0887"
            ],
            [
             0.1111111111111111,
             "#46039f"
            ],
            [
             0.2222222222222222,
             "#7201a8"
            ],
            [
             0.3333333333333333,
             "#9c179e"
            ],
            [
             0.4444444444444444,
             "#bd3786"
            ],
            [
             0.5555555555555556,
             "#d8576b"
            ],
            [
             0.6666666666666666,
             "#ed7953"
            ],
            [
             0.7777777777777778,
             "#fb9f3a"
            ],
            [
             0.8888888888888888,
             "#fdca26"
            ],
            [
             1,
             "#f0f921"
            ]
           ]
          },
          "colorway": [
           "#636efa",
           "#EF553B",
           "#00cc96",
           "#ab63fa",
           "#FFA15A",
           "#19d3f3",
           "#FF6692",
           "#B6E880",
           "#FF97FF",
           "#FECB52"
          ],
          "font": {
           "color": "#2a3f5f"
          },
          "geo": {
           "bgcolor": "white",
           "lakecolor": "white",
           "landcolor": "#E5ECF6",
           "showlakes": true,
           "showland": true,
           "subunitcolor": "white"
          },
          "hoverlabel": {
           "align": "left"
          },
          "hovermode": "closest",
          "mapbox": {
           "style": "light"
          },
          "paper_bgcolor": "white",
          "plot_bgcolor": "#E5ECF6",
          "polar": {
           "angularaxis": {
            "gridcolor": "white",
            "linecolor": "white",
            "ticks": ""
           },
           "bgcolor": "#E5ECF6",
           "radialaxis": {
            "gridcolor": "white",
            "linecolor": "white",
            "ticks": ""
           }
          },
          "scene": {
           "xaxis": {
            "backgroundcolor": "#E5ECF6",
            "gridcolor": "white",
            "gridwidth": 2,
            "linecolor": "white",
            "showbackground": true,
            "ticks": "",
            "zerolinecolor": "white"
           },
           "yaxis": {
            "backgroundcolor": "#E5ECF6",
            "gridcolor": "white",
            "gridwidth": 2,
            "linecolor": "white",
            "showbackground": true,
            "ticks": "",
            "zerolinecolor": "white"
           },
           "zaxis": {
            "backgroundcolor": "#E5ECF6",
            "gridcolor": "white",
            "gridwidth": 2,
            "linecolor": "white",
            "showbackground": true,
            "ticks": "",
            "zerolinecolor": "white"
           }
          },
          "shapedefaults": {
           "line": {
            "color": "#2a3f5f"
           }
          },
          "ternary": {
           "aaxis": {
            "gridcolor": "white",
            "linecolor": "white",
            "ticks": ""
           },
           "baxis": {
            "gridcolor": "white",
            "linecolor": "white",
            "ticks": ""
           },
           "bgcolor": "#E5ECF6",
           "caxis": {
            "gridcolor": "white",
            "linecolor": "white",
            "ticks": ""
           }
          },
          "title": {
           "x": 0.05
          },
          "xaxis": {
           "automargin": true,
           "gridcolor": "white",
           "linecolor": "white",
           "ticks": "",
           "title": {
            "standoff": 15
           },
           "zerolinecolor": "white",
           "zerolinewidth": 2
          },
          "yaxis": {
           "automargin": true,
           "gridcolor": "white",
           "linecolor": "white",
           "ticks": "",
           "title": {
            "standoff": 15
           },
           "zerolinecolor": "white",
           "zerolinewidth": 2
          }
         }
        },
        "title": {
         "text": "Bar Chart of Key-Value Pairs"
        },
        "width": 600,
        "xaxis": {
         "autorange": true,
         "range": [
          -0.5,
          4.5
         ],
         "tickfont": {
          "size": 16
         },
         "title": {
          "font": {
           "size": 18
          },
          "text": "Keys"
         },
         "type": "category"
        },
        "yaxis": {
         "autorange": true,
         "range": [
          0,
          86.3157894736842
         ],
         "tickfont": {
          "size": 16
         },
         "title": {
          "font": {
           "size": 18
          },
          "text": "Values"
         },
         "type": "linear"
        }
       }
      },
      "image/png": "[encoded data removed]",
      "text/html": [
       "<div>                            <div id=\"2529b176-cafd-444d-a39c-a4d7e205a807\" class=\"plotly-graph-div\" style=\"height:600px; width:600px;\"></div>            <script type=\"text/javascript\">                require([\"plotly\"], function(Plotly) {                    window.PLOTLYENV=window.PLOTLYENV || {};                                    if (document.getElementById(\"2529b176-cafd-444d-a39c-a4d7e205a807\")) {                    Plotly.newPlot(                        \"2529b176-cafd-444d-a39c-a4d7e205a807\",                        [{\"hovertemplate\":\"<b>Group 1</b><br><b>Key:</b> %{x}<br><b>Value:</b> %{y}<extra></extra>\",\"name\":\"Group 1\",\"x\":[\"A\",\"B\",\"C\",\"D\",\"E\"],\"y\":[56,2,5,17,71],\"type\":\"bar\"},{\"hovertemplate\":\"<b>Group 2</b><br><b>Key:</b> %{x}<br><b>Value:</b> %{y}<extra></extra>\",\"name\":\"Group 2\",\"x\":[\"A\",\"B\",\"C\",\"D\",\"E\"],\"y\":[22,22,23,82,4],\"type\":\"bar\"},{\"hovertemplate\":\"<b>Group 3</b><br><b>Key:</b> %{x}<br><b>Value:</b> %{y}<extra></extra>\",\"name\":\"Group 3\",\"x\":[\"A\",\"B\",\"C\",\"D\",\"E\"],\"y\":[70,28,60,79,81],\"type\":\"bar\"}],                        {\"template\":{\"data\":{\"bar\":[{\"error_x\":{\"color\":\"#2a3f5f\"},\"error_y\":{\"color\":\"#2a3f5f\"},\"marker\":{\"line\":{\"color\":\"#E5ECF6\",\"width\":0.5},\"pattern\":{\"fillmode\":\"overlay\",\"size\":10,\"solidity\":0.2}},\"type\":\"bar\"}],\"barpolar\":[{\"marker\":{\"line\":{\"color\":\"#E5ECF6\",\"width\":0.5},\"pattern\":{\"fillmode\":\"overlay\",\"size\":10,\"solidity\":0.2}},\"type\":\"barpolar\"}],\"carpet\":[{\"aaxis\":{\"endlinecolor\":\"#2a3f5f\",\"gridcolor\":\"white\",\"linecolor\":\"white\",\"minorgridcolor\":\"white\",\"startlinecolor\":\"#2a3f5f\"},\"baxis\":{\"endlinecolor\":\"#2a3f5f\",\"gridcolor\":\"white\",\"linecolor\":\"white\",\"minorgridcolor\":\"white\",\"startlinecolor\":\"#2a3f5f\"},\"type\":\"carpet\"}],\"choropleth\":[{\"colorbar\":{\"outlinewidth\":0,\"ticks\":\"\"},\"type\":\"choropleth\"}],\"contour\":[{\"colorbar\":{\"outlinewidth\":0,\"ticks\":\"\"},\"colorscale\":[[0.0,\"#0d0887\"],[0.1111111111111111,\"#46039f\"],[0.2222222222222222,\"#7201a8\"],[0.3333333333333333,\"#9c179e\"],[0.4444444444444444,\"#bd3786\"],[0.5555555555555556,\"#d8576b\"],[0.6666666666666666,\"#ed7953\"],[0.7777777777777778,\"#fb9f3a\"],[0.8888888888888888,\"#fdca26\"],[1.0,\"#f0f921\"]],\"type\":\"contour\"}],\"contourcarpet\":[{\"colorbar\":{\"outlinewidth\":0,\"ticks\":\"\"},\"type\":\"contourcarpet\"}],\"heatmap\":[{\"colorbar\":{\"outlinewidth\":0,\"ticks\":\"\"},\"colorscale\":[[0.0,\"#0d0887\"],[0.1111111111111111,\"#46039f\"],[0.2222222222222222,\"#7201a8\"],[0.3333333333333333,\"#9c179e\"],[0.4444444444444444,\"#bd3786\"],[0.5555555555555556,\"#d8576b\"],[0.6666666666666666,\"#ed7953\"],[0.7777777777777778,\"#fb9f3a\"],[0.8888888888888888,\"#fdca26\"],[1.0,\"#f0f921\"]],\"type\":\"heatmap\"}],\"heatmapgl\":[{\"colorbar\":{\"outlinewidth\":0,\"ticks\":\"\"},\"colorscale\":[[0.0,\"#0d0887\"],[0.1111111111111111,\"#46039f\"],[0.2222222222222222,\"#7201a8\"],[0.3333333333333333,\"#9c179e\"],[0.4444444444444444,\"#bd3786\"],[0.5555555555555556,\"#d8576b\"],[0.6666666666666666,\"#ed7953\"],[0.7777777777777778,\"#fb9f3a\"],[0.8888888888888888,\"#fdca26\"],[1.0,\"#f0f921\"]],\"type\":\"heatmapgl\"}],\"histogram\":[{\"marker\":{\"pattern\":{\"fillmode\":\"overlay\",\"size\":10,\"solidity\":0.2}},\"type\":\"histogram\"}],\"histogram2d\":[{\"colorbar\":{\"outlinewidth\":0,\"ticks\":\"\"},\"colorscale\":[[0.0,\"#0d0887\"],[0.1111111111111111,\"#46039f\"],[0.2222222222222222,\"#7201a8\"],[0.3333333333333333,\"#9c179e\"],[0.4444444444444444,\"#bd3786\"],[0.5555555555555556,\"#d8576b\"],[0.6666666666666666,\"#ed7953\"],[0.7777777777777778,\"#fb9f3a\"],[0.8888888888888888,\"#fdca26\"],[1.0,\"#f0f921\"]],\"type\":\"histogram2d\"}],\"histogram2dcontour\":[{\"colorbar\":{\"outlinewidth\":0,\"ticks\":\"\"},\"colorscale\":[[0.0,\"#0d0887\"],[0.1111111111111111,\"#46039f\"],[0.2222222222222222,\"#7201a8\"],[0.3333333333333333,\"#9c179e\"],[0.4444444444444444,\"#bd3786\"],[0.5555555555555556,\"#d8576b\"],[0.6666666666666666,\"#ed7953\"],[0.7777777777777778,\"#fb9f3a\"],[0.8888888888888888,\"#fdca26\"],[1.0,\"#f0f921\"]],\"type\":\"histogram2dcontour\"}],\"mesh3d\":[{\"colorbar\":{\"outlinewidth\":0,\"ticks\":\"\"},\"type\":\"mesh3d\"}],\"parcoords\":[{\"line\":{\"colorbar\":{\"outlinewidth\":0,\"ticks\":\"\"}},\"type\":\"parcoords\"}],\"pie\":[{\"automargin\":true,\"type\":\"pie\"}],\"scatter\":[{\"marker\":{\"colorbar\":{\"outlinewidth\":0,\"ticks\":\"\"}},\"type\":\"scatter\"}],\"scatter3d\":[{\"line\":{\"colorbar\":{\"outlinewidth\":0,\"ticks\":\"\"}},\"marker\":{\"colorbar\":{\"outlinewidth\":0,\"ticks\":\"\"}},\"type\":\"scatter3d\"}],\"scattercarpet\":[{\"marker\":{\"colorbar\":{\"outlinewidth\":0,\"ticks\":\"\"}},\"type\":\"scattercarpet\"}],\"scattergeo\":[{\"marker\":{\"colorbar\":{\"outlinewidth\":0,\"ticks\":\"\"}},\"type\":\"scattergeo\"}],\"scattergl\":[{\"marker\":{\"colorbar\":{\"outlinewidth\":0,\"ticks\":\"\"}},\"type\":\"scattergl\"}],\"scattermapbox\":[{\"marker\":{\"colorbar\":{\"outlinewidth\":0,\"ticks\":\"\"}},\"type\":\"scattermapbox\"}],\"scatterpolar\":[{\"marker\":{\"colorbar\":{\"outlinewidth\":0,\"ticks\":\"\"}},\"type\":\"scatterpolar\"}],\"scatterpolargl\":[{\"marker\":{\"colorbar\":{\"outlinewidth\":0,\"ticks\":\"\"}},\"type\":\"scatterpolargl\"}],\"scatterternary\":[{\"marker\":{\"colorbar\":{\"outlinewidth\":0,\"ticks\":\"\"}},\"type\":\"scatterternary\"}],\"surface\":[{\"colorbar\":{\"outlinewidth\":0,\"ticks\":\"\"},\"colorscale\":[[0.0,\"#0d0887\"],[0.1111111111111111,\"#46039f\"],[0.2222222222222222,\"#7201a8\"],[0.3333333333333333,\"#9c179e\"],[0.4444444444444444,\"#bd3786\"],[0.5555555555555556,\"#d8576b\"],[0.6666666666666666,\"#ed7953\"],[0.7777777777777778,\"#fb9f3a\"],[0.8888888888888888,\"#fdca26\"],[1.0,\"#f0f921\"]],\"type\":\"surface\"}],\"table\":[{\"cells\":{\"fill\":{\"color\":\"#EBF0F8\"},\"line\":{\"color\":\"white\"}},\"header\":{\"fill\":{\"color\":\"#C8D4E3\"},\"line\":{\"color\":\"white\"}},\"type\":\"table\"}]},\"layout\":{\"annotationdefaults\":{\"arrowcolor\":\"#2a3f5f\",\"arrowhead\":0,\"arrowwidth\":1},\"autotypenumbers\":\"strict\",\"coloraxis\":{\"colorbar\":{\"outlinewidth\":0,\"ticks\":\"\"}},\"colorscale\":{\"diverging\":[[0,\"#8e0152\"],[0.1,\"#c51b7d\"],[0.2,\"#de77ae\"],[0.3,\"#f1b6da\"],[0.4,\"#fde0ef\"],[0.5,\"#f7f7f7\"],[0.6,\"#e6f5d0\"],[0.7,\"#b8e186\"],[0.8,\"#7fbc41\"],[0.9,\"#4d9221\"],[1,\"#276419\"]],\"sequential\":[[0.0,\"#0d0887\"],[0.1111111111111111,\"#46039f\"],[0.2222222222222222,\"#7201a8\"],[0.3333333333333333,\"#9c179e\"],[0.4444444444444444,\"#bd3786\"],[0.5555555555555556,\"#d8576b\"],[0.6666666666666666,\"#ed7953\"],[0.7777777777777778,\"#fb9f3a\"],[0.8888888888888888,\"#fdca26\"],[1.0,\"#f0f921\"]],\"sequentialminus\":[[0.0,\"#0d0887\"],[0.1111111111111111,\"#46039f\"],[0.2222222222222222,\"#7201a8\"],[0.3333333333333333,\"#9c179e\"],[0.4444444444444444,\"#bd3786\"],[0.5555555555555556,\"#d8576b\"],[0.6666666666666666,\"#ed7953\"],[0.7777777777777778,\"#fb9f3a\"],[0.8888888888888888,\"#fdca26\"],[1.0,\"#f0f921\"]]},\"colorway\":[\"#636efa\",\"#EF553B\",\"#00cc96\",\"#ab63fa\",\"#FFA15A\",\"#19d3f3\",\"#FF6692\",\"#B6E880\",\"#FF97FF\",\"#FECB52\"],\"font\":{\"color\":\"#2a3f5f\"},\"geo\":{\"bgcolor\":\"white\",\"lakecolor\":\"white\",\"landcolor\":\"#E5ECF6\",\"showlakes\":true,\"showland\":true,\"subunitcolor\":\"white\"},\"hoverlabel\":{\"align\":\"left\"},\"hovermode\":\"closest\",\"mapbox\":{\"style\":\"light\"},\"paper_bgcolor\":\"white\",\"plot_bgcolor\":\"#E5ECF6\",\"polar\":{\"angularaxis\":{\"gridcolor\":\"white\",\"linecolor\":\"white\",\"ticks\":\"\"},\"bgcolor\":\"#E5ECF6\",\"radialaxis\":{\"gridcolor\":\"white\",\"linecolor\":\"white\",\"ticks\":\"\"}},\"scene\":{\"xaxis\":{\"backgroundcolor\":\"#E5ECF6\",\"gridcolor\":\"white\",\"gridwidth\":2,\"linecolor\":\"white\",\"showbackground\":true,\"ticks\":\"\",\"zerolinecolor\":\"white\"},\"yaxis\":{\"backgroundcolor\":\"#E5ECF6\",\"gridcolor\":\"white\",\"gridwidth\":2,\"linecolor\":\"white\",\"showbackground\":true,\"ticks\":\"\",\"zerolinecolor\":\"white\"},\"zaxis\":{\"backgroundcolor\":\"#E5ECF6\",\"gridcolor\":\"white\",\"gridwidth\":2,\"linecolor\":\"white\",\"showbackground\":true,\"ticks\":\"\",\"zerolinecolor\":\"white\"}},\"shapedefaults\":{\"line\":{\"color\":\"#2a3f5f\"}},\"ternary\":{\"aaxis\":{\"gridcolor\":\"white\",\"linecolor\":\"white\",\"ticks\":\"\"},\"baxis\":{\"gridcolor\":\"white\",\"linecolor\":\"white\",\"ticks\":\"\"},\"bgcolor\":\"#E5ECF6\",\"caxis\":{\"gridcolor\":\"white\",\"linecolor\":\"white\",\"ticks\":\"\"}},\"title\":{\"x\":0.05},\"xaxis\":{\"automargin\":true,\"gridcolor\":\"white\",\"linecolor\":\"white\",\"ticks\":\"\",\"title\":{\"standoff\":15},\"zerolinecolor\":\"white\",\"zerolinewidth\":2},\"yaxis\":{\"automargin\":true,\"gridcolor\":\"white\",\"linecolor\":\"white\",\"ticks\":\"\",\"title\":{\"standoff\":15},\"zerolinecolor\":\"white\",\"zerolinewidth\":2}}},\"font\":{\"family\":\"Averta\"},\"hoverlabel\":{\"font\":{\"family\":\"Averta\",\"size\":16}},\"title\":{\"text\":\"Bar Chart of Key-Value Pairs\"},\"xaxis\":{\"title\":{\"font\":{\"size\":18},\"text\":\"Keys\"},\"tickfont\":{\"size\":16}},\"yaxis\":{\"title\":{\"font\":{\"size\":18},\"text\":\"Values\"},\"tickfont\":{\"size\":16}},\"legend\":{\"font\":{\"size\":16}},\"barmode\":\"group\",\"height\":600,\"width\":600},                        {\"responsive\": true}                    ).then(function(){\n",
       "                            \n",
       "var gd = document.getElementById('2529b176-cafd-444d-a39c-a4d7e205a807');\n",
       "var x = new MutationObserver(function (mutations, observer) {{\n",
       "        var display = window.getComputedStyle(gd).display;\n",
       "        if (!display || display === 'none') {{\n",
       "            console.log([gd, 'removed!']);\n",
       "            Plotly.purge(gd);\n",
       "            observer.disconnect();\n",
       "        }}\n",
       "}});\n",
       "\n",
       "// Listen for the removal of the full notebook cells\n",
       "var notebookContainer = gd.closest('#notebook-container');\n",
       "if (notebookContainer) {{\n",
       "    x.observe(notebookContainer, {childList: true});\n",
       "}}\n",
       "\n",
       "// Listen for the clearing of the current output cell\n",
       "var outputEl = gd.closest('.output');\n",
       "if (outputEl) {{\n",
       "    x.observe(outputEl, {childList: true});\n",
       "}}\n",
       "\n",
       "                        })                };                });            </script>        </div>"
      ]
     },
     "metadata": {},
     "output_type": "display_data"
    }
   ],
   "source": [
    "# create figure\n",
    "fig = go.Figure()\n",
    "\n",
    "# plot data\n",
    "for i, vals in enumerate(vals_array):\n",
    "    fig.add_trace(\n",
    "        go.Bar(x=keys, y=vals, name=f\"Group {i+1}\", hovertemplate=f\"<b>Group {i+1}</b><br><b>Key:</b> %{{x}}<br><b>Value:</b> %{{y}}<extra></extra>\")\n",
    "    )\n",
    "\n",
    "# update layout\n",
    "fig.update_layout(\n",
    "    barmode=\"group\",\n",
    "    font_family=\"Averta\",\n",
    "    hoverlabel_font_family=\"Averta\",\n",
    "    title_text=\"Bar Chart of Key-Value Pairs\",\n",
    "    xaxis_title_text=\"Keys\",\n",
    "    xaxis_title_font_size=18,\n",
    "    xaxis_tickfont_size=16,\n",
    "    yaxis_title_text=\"Values\",\n",
    "    yaxis_title_font_size=18,\n",
    "    yaxis_tickfont_size=16,\n",
    "    hoverlabel_font_size=16,\n",
    "    legend_font_size=16,\n",
    "    height=600, \n",
    "    width=600\n",
    ")\n",
    "\n",
    "fig.show()"
   ]
  },
  {
   "cell_type": "code",
   "execution_count": 36,
   "id": "0999a61b-0d60-4f82-a27d-426cb61c425f",
   "metadata": {},
   "outputs": [
    {
     "data": {
      "application/vnd.plotly.v1+json": {
       "config": {
        "plotlyServerURL": "https://plotly.com"
       },
       "data": [
        {
         "hovertemplate": "<b>Group 1</b><br><b>Key:</b> %{x}<br><b>Value:</b> %{y}<extra></extra>",
         "name": "Group 1",
         "type": "bar",
         "x": [
          "A",
          "B",
          "C",
          "D",
          "E"
         ],
         "y": [
          56,
          2,
          5,
          17,
          71
         ]
        },
        {
         "hovertemplate": "<b>Group 2</b><br><b>Key:</b> %{x}<br><b>Value:</b> %{y}<extra></extra>",
         "name": "Group 2",
         "type": "bar",
         "x": [
          "A",
          "B",
          "C",
          "D",
          "E"
         ],
         "y": [
          22,
          22,
          23,
          82,
          4
         ]
        },
        {
         "hovertemplate": "<b>Group 3</b><br><b>Key:</b> %{x}<br><b>Value:</b> %{y}<extra></extra>",
         "name": "Group 3",
         "type": "bar",
         "x": [
          "A",
          "B",
          "C",
          "D",
          "E"
         ],
         "y": [
          70,
          28,
          60,
          79,
          81
         ]
        }
       ],
       "layout": {
        "barmode": "stack",
        "font": {
         "family": "Averta"
        },
        "height": 600,
        "hoverlabel": {
         "font": {
          "family": "Averta",
          "size": 16
         }
        },
        "legend": {
         "font": {
          "size": 16
         }
        },
        "template": {
         "data": {
          "bar": [
           {
            "error_x": {
             "color": "#2a3f5f"
            },
            "error_y": {
             "color": "#2a3f5f"
            },
            "marker": {
             "line": {
              "color": "#E5ECF6",
              "width": 0.5
             },
             "pattern": {
              "fillmode": "overlay",
              "size": 10,
              "solidity": 0.2
             }
            },
            "type": "bar"
           }
          ],
          "barpolar": [
           {
            "marker": {
             "line": {
              "color": "#E5ECF6",
              "width": 0.5
             },
             "pattern": {
              "fillmode": "overlay",
              "size": 10,
              "solidity": 0.2
             }
            },
            "type": "barpolar"
           }
          ],
          "carpet": [
           {
            "aaxis": {
             "endlinecolor": "#2a3f5f",
             "gridcolor": "white",
             "linecolor": "white",
             "minorgridcolor": "white",
             "startlinecolor": "#2a3f5f"
            },
            "baxis": {
             "endlinecolor": "#2a3f5f",
             "gridcolor": "white",
             "linecolor": "white",
             "minorgridcolor": "white",
             "startlinecolor": "#2a3f5f"
            },
            "type": "carpet"
           }
          ],
          "choropleth": [
           {
            "colorbar": {
             "outlinewidth": 0,
             "ticks": ""
            },
            "type": "choropleth"
           }
          ],
          "contour": [
           {
            "colorbar": {
             "outlinewidth": 0,
             "ticks": ""
            },
            "colorscale": [
             [
              0,
              "#0d0887"
             ],
             [
              0.1111111111111111,
              "#46039f"
             ],
             [
              0.2222222222222222,
              "#7201a8"
             ],
             [
              0.3333333333333333,
              "#9c179e"
             ],
             [
              0.4444444444444444,
              "#bd3786"
             ],
             [
              0.5555555555555556,
              "#d8576b"
             ],
             [
              0.6666666666666666,
              "#ed7953"
             ],
             [
              0.7777777777777778,
              "#fb9f3a"
             ],
             [
              0.8888888888888888,
              "#fdca26"
             ],
             [
              1,
              "#f0f921"
             ]
            ],
            "type": "contour"
           }
          ],
          "contourcarpet": [
           {
            "colorbar": {
             "outlinewidth": 0,
             "ticks": ""
            },
            "type": "contourcarpet"
           }
          ],
          "heatmap": [
           {
            "colorbar": {
             "outlinewidth": 0,
             "ticks": ""
            },
            "colorscale": [
             [
              0,
              "#0d0887"
             ],
             [
              0.1111111111111111,
              "#46039f"
             ],
             [
              0.2222222222222222,
              "#7201a8"
             ],
             [
              0.3333333333333333,
              "#9c179e"
             ],
             [
              0.4444444444444444,
              "#bd3786"
             ],
             [
              0.5555555555555556,
              "#d8576b"
             ],
             [
              0.6666666666666666,
              "#ed7953"
             ],
             [
              0.7777777777777778,
              "#fb9f3a"
             ],
             [
              0.8888888888888888,
              "#fdca26"
             ],
             [
              1,
              "#f0f921"
             ]
            ],
            "type": "heatmap"
           }
          ],
          "heatmapgl": [
           {
            "colorbar": {
             "outlinewidth": 0,
             "ticks": ""
            },
            "colorscale": [
             [
              0,
              "#0d0887"
             ],
             [
              0.1111111111111111,
              "#46039f"
             ],
             [
              0.2222222222222222,
              "#7201a8"
             ],
             [
              0.3333333333333333,
              "#9c179e"
             ],
             [
              0.4444444444444444,
              "#bd3786"
             ],
             [
              0.5555555555555556,
              "#d8576b"
             ],
             [
              0.6666666666666666,
              "#ed7953"
             ],
             [
              0.7777777777777778,
              "#fb9f3a"
             ],
             [
              0.8888888888888888,
              "#fdca26"
             ],
             [
              1,
              "#f0f921"
             ]
            ],
            "type": "heatmapgl"
           }
          ],
          "histogram": [
           {
            "marker": {
             "pattern": {
              "fillmode": "overlay",
              "size": 10,
              "solidity": 0.2
             }
            },
            "type": "histogram"
           }
          ],
          "histogram2d": [
           {
            "colorbar": {
             "outlinewidth": 0,
             "ticks": ""
            },
            "colorscale": [
             [
              0,
              "#0d0887"
             ],
             [
              0.1111111111111111,
              "#46039f"
             ],
             [
              0.2222222222222222,
              "#7201a8"
             ],
             [
              0.3333333333333333,
              "#9c179e"
             ],
             [
              0.4444444444444444,
              "#bd3786"
             ],
             [
              0.5555555555555556,
              "#d8576b"
             ],
             [
              0.6666666666666666,
              "#ed7953"
             ],
             [
              0.7777777777777778,
              "#fb9f3a"
             ],
             [
              0.8888888888888888,
              "#fdca26"
             ],
             [
              1,
              "#f0f921"
             ]
            ],
            "type": "histogram2d"
           }
          ],
          "histogram2dcontour": [
           {
            "colorbar": {
             "outlinewidth": 0,
             "ticks": ""
            },
            "colorscale": [
             [
              0,
              "#0d0887"
             ],
             [
              0.1111111111111111,
              "#46039f"
             ],
             [
              0.2222222222222222,
              "#7201a8"
             ],
             [
              0.3333333333333333,
              "#9c179e"
             ],
             [
              0.4444444444444444,
              "#bd3786"
             ],
             [
              0.5555555555555556,
              "#d8576b"
             ],
             [
              0.6666666666666666,
              "#ed7953"
             ],
             [
              0.7777777777777778,
              "#fb9f3a"
             ],
             [
              0.8888888888888888,
              "#fdca26"
             ],
             [
              1,
              "#f0f921"
             ]
            ],
            "type": "histogram2dcontour"
           }
          ],
          "mesh3d": [
           {
            "colorbar": {
             "outlinewidth": 0,
             "ticks": ""
            },
            "type": "mesh3d"
           }
          ],
          "parcoords": [
           {
            "line": {
             "colorbar": {
              "outlinewidth": 0,
              "ticks": ""
             }
            },
            "type": "parcoords"
           }
          ],
          "pie": [
           {
            "automargin": true,
            "type": "pie"
           }
          ],
          "scatter": [
           {
            "marker": {
             "colorbar": {
              "outlinewidth": 0,
              "ticks": ""
             }
            },
            "type": "scatter"
           }
          ],
          "scatter3d": [
           {
            "line": {
             "colorbar": {
              "outlinewidth": 0,
              "ticks": ""
             }
            },
            "marker": {
             "colorbar": {
              "outlinewidth": 0,
              "ticks": ""
             }
            },
            "type": "scatter3d"
           }
          ],
          "scattercarpet": [
           {
            "marker": {
             "colorbar": {
              "outlinewidth": 0,
              "ticks": ""
             }
            },
            "type": "scattercarpet"
           }
          ],
          "scattergeo": [
           {
            "marker": {
             "colorbar": {
              "outlinewidth": 0,
              "ticks": ""
             }
            },
            "type": "scattergeo"
           }
          ],
          "scattergl": [
           {
            "marker": {
             "colorbar": {
              "outlinewidth": 0,
              "ticks": ""
             }
            },
            "type": "scattergl"
           }
          ],
          "scattermapbox": [
           {
            "marker": {
             "colorbar": {
              "outlinewidth": 0,
              "ticks": ""
             }
            },
            "type": "scattermapbox"
           }
          ],
          "scatterpolar": [
           {
            "marker": {
             "colorbar": {
              "outlinewidth": 0,
              "ticks": ""
             }
            },
            "type": "scatterpolar"
           }
          ],
          "scatterpolargl": [
           {
            "marker": {
             "colorbar": {
              "outlinewidth": 0,
              "ticks": ""
             }
            },
            "type": "scatterpolargl"
           }
          ],
          "scatterternary": [
           {
            "marker": {
             "colorbar": {
              "outlinewidth": 0,
              "ticks": ""
             }
            },
            "type": "scatterternary"
           }
          ],
          "surface": [
           {
            "colorbar": {
             "outlinewidth": 0,
             "ticks": ""
            },
            "colorscale": [
             [
              0,
              "#0d0887"
             ],
             [
              0.1111111111111111,
              "#46039f"
             ],
             [
              0.2222222222222222,
              "#7201a8"
             ],
             [
              0.3333333333333333,
              "#9c179e"
             ],
             [
              0.4444444444444444,
              "#bd3786"
             ],
             [
              0.5555555555555556,
              "#d8576b"
             ],
             [
              0.6666666666666666,
              "#ed7953"
             ],
             [
              0.7777777777777778,
              "#fb9f3a"
             ],
             [
              0.8888888888888888,
              "#fdca26"
             ],
             [
              1,
              "#f0f921"
             ]
            ],
            "type": "surface"
           }
          ],
          "table": [
           {
            "cells": {
             "fill": {
              "color": "#EBF0F8"
             },
             "line": {
              "color": "white"
             }
            },
            "header": {
             "fill": {
              "color": "#C8D4E3"
             },
             "line": {
              "color": "white"
             }
            },
            "type": "table"
           }
          ]
         },
         "layout": {
          "annotationdefaults": {
           "arrowcolor": "#2a3f5f",
           "arrowhead": 0,
           "arrowwidth": 1
          },
          "autotypenumbers": "strict",
          "coloraxis": {
           "colorbar": {
            "outlinewidth": 0,
            "ticks": ""
           }
          },
          "colorscale": {
           "diverging": [
            [
             0,
             "#8e0152"
            ],
            [
             0.1,
             "#c51b7d"
            ],
            [
             0.2,
             "#de77ae"
            ],
            [
             0.3,
             "#f1b6da"
            ],
            [
             0.4,
             "#fde0ef"
            ],
            [
             0.5,
             "#f7f7f7"
            ],
            [
             0.6,
             "#e6f5d0"
            ],
            [
             0.7,
             "#b8e186"
            ],
            [
             0.8,
             "#7fbc41"
            ],
            [
             0.9,
             "#4d9221"
            ],
            [
             1,
             "#276419"
            ]
           ],
           "sequential": [
            [
             0,
             "#0d0887"
            ],
            [
             0.1111111111111111,
             "#46039f"
            ],
            [
             0.2222222222222222,
             "#7201a8"
            ],
            [
             0.3333333333333333,
             "#9c179e"
            ],
            [
             0.4444444444444444,
             "#bd3786"
            ],
            [
             0.5555555555555556,
             "#d8576b"
            ],
            [
             0.6666666666666666,
             "#ed7953"
            ],
            [
             0.7777777777777778,
             "#fb9f3a"
            ],
            [
             0.8888888888888888,
             "#fdca26"
            ],
            [
             1,
             "#f0f921"
            ]
           ],
           "sequentialminus": [
            [
             0,
             "#0d0887"
            ],
            [
             0.1111111111111111,
             "#46039f"
            ],
            [
             0.2222222222222222,
             "#7201a8"
            ],
            [
             0.3333333333333333,
             "#9c179e"
            ],
            [
             0.4444444444444444,
             "#bd3786"
            ],
            [
             0.5555555555555556,
             "#d8576b"
            ],
            [
             0.6666666666666666,
             "#ed7953"
            ],
            [
             0.7777777777777778,
             "#fb9f3a"
            ],
            [
             0.8888888888888888,
             "#fdca26"
            ],
            [
             1,
             "#f0f921"
            ]
           ]
          },
          "colorway": [
           "#636efa",
           "#EF553B",
           "#00cc96",
           "#ab63fa",
           "#FFA15A",
           "#19d3f3",
           "#FF6692",
           "#B6E880",
           "#FF97FF",
           "#FECB52"
          ],
          "font": {
           "color": "#2a3f5f"
          },
          "geo": {
           "bgcolor": "white",
           "lakecolor": "white",
           "landcolor": "#E5ECF6",
           "showlakes": true,
           "showland": true,
           "subunitcolor": "white"
          },
          "hoverlabel": {
           "align": "left"
          },
          "hovermode": "closest",
          "mapbox": {
           "style": "light"
          },
          "paper_bgcolor": "white",
          "plot_bgcolor": "#E5ECF6",
          "polar": {
           "angularaxis": {
            "gridcolor": "white",
            "linecolor": "white",
            "ticks": ""
           },
           "bgcolor": "#E5ECF6",
           "radialaxis": {
            "gridcolor": "white",
            "linecolor": "white",
            "ticks": ""
           }
          },
          "scene": {
           "xaxis": {
            "backgroundcolor": "#E5ECF6",
            "gridcolor": "white",
            "gridwidth": 2,
            "linecolor": "white",
            "showbackground": true,
            "ticks": "",
            "zerolinecolor": "white"
           },
           "yaxis": {
            "backgroundcolor": "#E5ECF6",
            "gridcolor": "white",
            "gridwidth": 2,
            "linecolor": "white",
            "showbackground": true,
            "ticks": "",
            "zerolinecolor": "white"
           },
           "zaxis": {
            "backgroundcolor": "#E5ECF6",
            "gridcolor": "white",
            "gridwidth": 2,
            "linecolor": "white",
            "showbackground": true,
            "ticks": "",
            "zerolinecolor": "white"
           }
          },
          "shapedefaults": {
           "line": {
            "color": "#2a3f5f"
           }
          },
          "ternary": {
           "aaxis": {
            "gridcolor": "white",
            "linecolor": "white",
            "ticks": ""
           },
           "baxis": {
            "gridcolor": "white",
            "linecolor": "white",
            "ticks": ""
           },
           "bgcolor": "#E5ECF6",
           "caxis": {
            "gridcolor": "white",
            "linecolor": "white",
            "ticks": ""
           }
          },
          "title": {
           "x": 0.05
          },
          "xaxis": {
           "automargin": true,
           "gridcolor": "white",
           "linecolor": "white",
           "ticks": "",
           "title": {
            "standoff": 15
           },
           "zerolinecolor": "white",
           "zerolinewidth": 2
          },
          "yaxis": {
           "automargin": true,
           "gridcolor": "white",
           "linecolor": "white",
           "ticks": "",
           "title": {
            "standoff": 15
           },
           "zerolinecolor": "white",
           "zerolinewidth": 2
          }
         }
        },
        "title": {
         "text": "Bar Chart of Key-Value Pairs"
        },
        "width": 600,
        "xaxis": {
         "autorange": true,
         "range": [
          -0.5,
          4.5
         ],
         "tickfont": {
          "size": 16
         },
         "title": {
          "font": {
           "size": 18
          },
          "text": "Keys"
         },
         "type": "category"
        },
        "yaxis": {
         "autorange": true,
         "range": [
          0,
          187.3684210526316
         ],
         "tickfont": {
          "size": 16
         },
         "title": {
          "font": {
           "size": 18
          },
          "text": "Values"
         },
         "type": "linear"
        }
       }
      },
      "image/png": "[encoded data removed]",
      "text/html": [
       "<div>                            <div id=\"4bd0f49a-4672-4ba3-b854-079b347f1484\" class=\"plotly-graph-div\" style=\"height:600px; width:600px;\"></div>            <script type=\"text/javascript\">                require([\"plotly\"], function(Plotly) {                    window.PLOTLYENV=window.PLOTLYENV || {};                                    if (document.getElementById(\"4bd0f49a-4672-4ba3-b854-079b347f1484\")) {                    Plotly.newPlot(                        \"4bd0f49a-4672-4ba3-b854-079b347f1484\",                        [{\"hovertemplate\":\"<b>Group 1</b><br><b>Key:</b> %{x}<br><b>Value:</b> %{y}<extra></extra>\",\"name\":\"Group 1\",\"x\":[\"A\",\"B\",\"C\",\"D\",\"E\"],\"y\":[56,2,5,17,71],\"type\":\"bar\"},{\"hovertemplate\":\"<b>Group 2</b><br><b>Key:</b> %{x}<br><b>Value:</b> %{y}<extra></extra>\",\"name\":\"Group 2\",\"x\":[\"A\",\"B\",\"C\",\"D\",\"E\"],\"y\":[22,22,23,82,4],\"type\":\"bar\"},{\"hovertemplate\":\"<b>Group 3</b><br><b>Key:</b> %{x}<br><b>Value:</b> %{y}<extra></extra>\",\"name\":\"Group 3\",\"x\":[\"A\",\"B\",\"C\",\"D\",\"E\"],\"y\":[70,28,60,79,81],\"type\":\"bar\"}],                        {\"template\":{\"data\":{\"bar\":[{\"error_x\":{\"color\":\"#2a3f5f\"},\"error_y\":{\"color\":\"#2a3f5f\"},\"marker\":{\"line\":{\"color\":\"#E5ECF6\",\"width\":0.5},\"pattern\":{\"fillmode\":\"overlay\",\"size\":10,\"solidity\":0.2}},\"type\":\"bar\"}],\"barpolar\":[{\"marker\":{\"line\":{\"color\":\"#E5ECF6\",\"width\":0.5},\"pattern\":{\"fillmode\":\"overlay\",\"size\":10,\"solidity\":0.2}},\"type\":\"barpolar\"}],\"carpet\":[{\"aaxis\":{\"endlinecolor\":\"#2a3f5f\",\"gridcolor\":\"white\",\"linecolor\":\"white\",\"minorgridcolor\":\"white\",\"startlinecolor\":\"#2a3f5f\"},\"baxis\":{\"endlinecolor\":\"#2a3f5f\",\"gridcolor\":\"white\",\"linecolor\":\"white\",\"minorgridcolor\":\"white\",\"startlinecolor\":\"#2a3f5f\"},\"type\":\"carpet\"}],\"choropleth\":[{\"colorbar\":{\"outlinewidth\":0,\"ticks\":\"\"},\"type\":\"choropleth\"}],\"contour\":[{\"colorbar\":{\"outlinewidth\":0,\"ticks\":\"\"},\"colorscale\":[[0.0,\"#0d0887\"],[0.1111111111111111,\"#46039f\"],[0.2222222222222222,\"#7201a8\"],[0.3333333333333333,\"#9c179e\"],[0.4444444444444444,\"#bd3786\"],[0.5555555555555556,\"#d8576b\"],[0.6666666666666666,\"#ed7953\"],[0.7777777777777778,\"#fb9f3a\"],[0.8888888888888888,\"#fdca26\"],[1.0,\"#f0f921\"]],\"type\":\"contour\"}],\"contourcarpet\":[{\"colorbar\":{\"outlinewidth\":0,\"ticks\":\"\"},\"type\":\"contourcarpet\"}],\"heatmap\":[{\"colorbar\":{\"outlinewidth\":0,\"ticks\":\"\"},\"colorscale\":[[0.0,\"#0d0887\"],[0.1111111111111111,\"#46039f\"],[0.2222222222222222,\"#7201a8\"],[0.3333333333333333,\"#9c179e\"],[0.4444444444444444,\"#bd3786\"],[0.5555555555555556,\"#d8576b\"],[0.6666666666666666,\"#ed7953\"],[0.7777777777777778,\"#fb9f3a\"],[0.8888888888888888,\"#fdca26\"],[1.0,\"#f0f921\"]],\"type\":\"heatmap\"}],\"heatmapgl\":[{\"colorbar\":{\"outlinewidth\":0,\"ticks\":\"\"},\"colorscale\":[[0.0,\"#0d0887\"],[0.1111111111111111,\"#46039f\"],[0.2222222222222222,\"#7201a8\"],[0.3333333333333333,\"#9c179e\"],[0.4444444444444444,\"#bd3786\"],[0.5555555555555556,\"#d8576b\"],[0.6666666666666666,\"#ed7953\"],[0.7777777777777778,\"#fb9f3a\"],[0.8888888888888888,\"#fdca26\"],[1.0,\"#f0f921\"]],\"type\":\"heatmapgl\"}],\"histogram\":[{\"marker\":{\"pattern\":{\"fillmode\":\"overlay\",\"size\":10,\"solidity\":0.2}},\"type\":\"histogram\"}],\"histogram2d\":[{\"colorbar\":{\"outlinewidth\":0,\"ticks\":\"\"},\"colorscale\":[[0.0,\"#0d0887\"],[0.1111111111111111,\"#46039f\"],[0.2222222222222222,\"#7201a8\"],[0.3333333333333333,\"#9c179e\"],[0.4444444444444444,\"#bd3786\"],[0.5555555555555556,\"#d8576b\"],[0.6666666666666666,\"#ed7953\"],[0.7777777777777778,\"#fb9f3a\"],[0.8888888888888888,\"#fdca26\"],[1.0,\"#f0f921\"]],\"type\":\"histogram2d\"}],\"histogram2dcontour\":[{\"colorbar\":{\"outlinewidth\":0,\"ticks\":\"\"},\"colorscale\":[[0.0,\"#0d0887\"],[0.1111111111111111,\"#46039f\"],[0.2222222222222222,\"#7201a8\"],[0.3333333333333333,\"#9c179e\"],[0.4444444444444444,\"#bd3786\"],[0.5555555555555556,\"#d8576b\"],[0.6666666666666666,\"#ed7953\"],[0.7777777777777778,\"#fb9f3a\"],[0.8888888888888888,\"#fdca26\"],[1.0,\"#f0f921\"]],\"type\":\"histogram2dcontour\"}],\"mesh3d\":[{\"colorbar\":{\"outlinewidth\":0,\"ticks\":\"\"},\"type\":\"mesh3d\"}],\"parcoords\":[{\"line\":{\"colorbar\":{\"outlinewidth\":0,\"ticks\":\"\"}},\"type\":\"parcoords\"}],\"pie\":[{\"automargin\":true,\"type\":\"pie\"}],\"scatter\":[{\"marker\":{\"colorbar\":{\"outlinewidth\":0,\"ticks\":\"\"}},\"type\":\"scatter\"}],\"scatter3d\":[{\"line\":{\"colorbar\":{\"outlinewidth\":0,\"ticks\":\"\"}},\"marker\":{\"colorbar\":{\"outlinewidth\":0,\"ticks\":\"\"}},\"type\":\"scatter3d\"}],\"scattercarpet\":[{\"marker\":{\"colorbar\":{\"outlinewidth\":0,\"ticks\":\"\"}},\"type\":\"scattercarpet\"}],\"scattergeo\":[{\"marker\":{\"colorbar\":{\"outlinewidth\":0,\"ticks\":\"\"}},\"type\":\"scattergeo\"}],\"scattergl\":[{\"marker\":{\"colorbar\":{\"outlinewidth\":0,\"ticks\":\"\"}},\"type\":\"scattergl\"}],\"scattermapbox\":[{\"marker\":{\"colorbar\":{\"outlinewidth\":0,\"ticks\":\"\"}},\"type\":\"scattermapbox\"}],\"scatterpolar\":[{\"marker\":{\"colorbar\":{\"outlinewidth\":0,\"ticks\":\"\"}},\"type\":\"scatterpolar\"}],\"scatterpolargl\":[{\"marker\":{\"colorbar\":{\"outlinewidth\":0,\"ticks\":\"\"}},\"type\":\"scatterpolargl\"}],\"scatterternary\":[{\"marker\":{\"colorbar\":{\"outlinewidth\":0,\"ticks\":\"\"}},\"type\":\"scatterternary\"}],\"surface\":[{\"colorbar\":{\"outlinewidth\":0,\"ticks\":\"\"},\"colorscale\":[[0.0,\"#0d0887\"],[0.1111111111111111,\"#46039f\"],[0.2222222222222222,\"#7201a8\"],[0.3333333333333333,\"#9c179e\"],[0.4444444444444444,\"#bd3786\"],[0.5555555555555556,\"#d8576b\"],[0.6666666666666666,\"#ed7953\"],[0.7777777777777778,\"#fb9f3a\"],[0.8888888888888888,\"#fdca26\"],[1.0,\"#f0f921\"]],\"type\":\"surface\"}],\"table\":[{\"cells\":{\"fill\":{\"color\":\"#EBF0F8\"},\"line\":{\"color\":\"white\"}},\"header\":{\"fill\":{\"color\":\"#C8D4E3\"},\"line\":{\"color\":\"white\"}},\"type\":\"table\"}]},\"layout\":{\"annotationdefaults\":{\"arrowcolor\":\"#2a3f5f\",\"arrowhead\":0,\"arrowwidth\":1},\"autotypenumbers\":\"strict\",\"coloraxis\":{\"colorbar\":{\"outlinewidth\":0,\"ticks\":\"\"}},\"colorscale\":{\"diverging\":[[0,\"#8e0152\"],[0.1,\"#c51b7d\"],[0.2,\"#de77ae\"],[0.3,\"#f1b6da\"],[0.4,\"#fde0ef\"],[0.5,\"#f7f7f7\"],[0.6,\"#e6f5d0\"],[0.7,\"#b8e186\"],[0.8,\"#7fbc41\"],[0.9,\"#4d9221\"],[1,\"#276419\"]],\"sequential\":[[0.0,\"#0d0887\"],[0.1111111111111111,\"#46039f\"],[0.2222222222222222,\"#7201a8\"],[0.3333333333333333,\"#9c179e\"],[0.4444444444444444,\"#bd3786\"],[0.5555555555555556,\"#d8576b\"],[0.6666666666666666,\"#ed7953\"],[0.7777777777777778,\"#fb9f3a\"],[0.8888888888888888,\"#fdca26\"],[1.0,\"#f0f921\"]],\"sequentialminus\":[[0.0,\"#0d0887\"],[0.1111111111111111,\"#46039f\"],[0.2222222222222222,\"#7201a8\"],[0.3333333333333333,\"#9c179e\"],[0.4444444444444444,\"#bd3786\"],[0.5555555555555556,\"#d8576b\"],[0.6666666666666666,\"#ed7953\"],[0.7777777777777778,\"#fb9f3a\"],[0.8888888888888888,\"#fdca26\"],[1.0,\"#f0f921\"]]},\"colorway\":[\"#636efa\",\"#EF553B\",\"#00cc96\",\"#ab63fa\",\"#FFA15A\",\"#19d3f3\",\"#FF6692\",\"#B6E880\",\"#FF97FF\",\"#FECB52\"],\"font\":{\"color\":\"#2a3f5f\"},\"geo\":{\"bgcolor\":\"white\",\"lakecolor\":\"white\",\"landcolor\":\"#E5ECF6\",\"showlakes\":true,\"showland\":true,\"subunitcolor\":\"white\"},\"hoverlabel\":{\"align\":\"left\"},\"hovermode\":\"closest\",\"mapbox\":{\"style\":\"light\"},\"paper_bgcolor\":\"white\",\"plot_bgcolor\":\"#E5ECF6\",\"polar\":{\"angularaxis\":{\"gridcolor\":\"white\",\"linecolor\":\"white\",\"ticks\":\"\"},\"bgcolor\":\"#E5ECF6\",\"radialaxis\":{\"gridcolor\":\"white\",\"linecolor\":\"white\",\"ticks\":\"\"}},\"scene\":{\"xaxis\":{\"backgroundcolor\":\"#E5ECF6\",\"gridcolor\":\"white\",\"gridwidth\":2,\"linecolor\":\"white\",\"showbackground\":true,\"ticks\":\"\",\"zerolinecolor\":\"white\"},\"yaxis\":{\"backgroundcolor\":\"#E5ECF6\",\"gridcolor\":\"white\",\"gridwidth\":2,\"linecolor\":\"white\",\"showbackground\":true,\"ticks\":\"\",\"zerolinecolor\":\"white\"},\"zaxis\":{\"backgroundcolor\":\"#E5ECF6\",\"gridcolor\":\"white\",\"gridwidth\":2,\"linecolor\":\"white\",\"showbackground\":true,\"ticks\":\"\",\"zerolinecolor\":\"white\"}},\"shapedefaults\":{\"line\":{\"color\":\"#2a3f5f\"}},\"ternary\":{\"aaxis\":{\"gridcolor\":\"white\",\"linecolor\":\"white\",\"ticks\":\"\"},\"baxis\":{\"gridcolor\":\"white\",\"linecolor\":\"white\",\"ticks\":\"\"},\"bgcolor\":\"#E5ECF6\",\"caxis\":{\"gridcolor\":\"white\",\"linecolor\":\"white\",\"ticks\":\"\"}},\"title\":{\"x\":0.05},\"xaxis\":{\"automargin\":true,\"gridcolor\":\"white\",\"linecolor\":\"white\",\"ticks\":\"\",\"title\":{\"standoff\":15},\"zerolinecolor\":\"white\",\"zerolinewidth\":2},\"yaxis\":{\"automargin\":true,\"gridcolor\":\"white\",\"linecolor\":\"white\",\"ticks\":\"\",\"title\":{\"standoff\":15},\"zerolinecolor\":\"white\",\"zerolinewidth\":2}}},\"font\":{\"family\":\"Averta\"},\"hoverlabel\":{\"font\":{\"family\":\"Averta\",\"size\":16}},\"title\":{\"text\":\"Bar Chart of Key-Value Pairs\"},\"xaxis\":{\"title\":{\"font\":{\"size\":18},\"text\":\"Keys\"},\"tickfont\":{\"size\":16}},\"yaxis\":{\"title\":{\"font\":{\"size\":18},\"text\":\"Values\"},\"tickfont\":{\"size\":16}},\"legend\":{\"font\":{\"size\":16}},\"barmode\":\"stack\",\"height\":600,\"width\":600},                        {\"responsive\": true}                    ).then(function(){\n",
       "                            \n",
       "var gd = document.getElementById('4bd0f49a-4672-4ba3-b854-079b347f1484');\n",
       "var x = new MutationObserver(function (mutations, observer) {{\n",
       "        var display = window.getComputedStyle(gd).display;\n",
       "        if (!display || display === 'none') {{\n",
       "            console.log([gd, 'removed!']);\n",
       "            Plotly.purge(gd);\n",
       "            observer.disconnect();\n",
       "        }}\n",
       "}});\n",
       "\n",
       "// Listen for the removal of the full notebook cells\n",
       "var notebookContainer = gd.closest('#notebook-container');\n",
       "if (notebookContainer) {{\n",
       "    x.observe(notebookContainer, {childList: true});\n",
       "}}\n",
       "\n",
       "// Listen for the clearing of the current output cell\n",
       "var outputEl = gd.closest('.output');\n",
       "if (outputEl) {{\n",
       "    x.observe(outputEl, {childList: true});\n",
       "}}\n",
       "\n",
       "                        })                };                });            </script>        </div>"
      ]
     },
     "metadata": {},
     "output_type": "display_data"
    }
   ],
   "source": [
    "# create figure\n",
    "fig = go.Figure()\n",
    "\n",
    "# plot data\n",
    "for i, vals in enumerate(vals_array):\n",
    "    fig.add_trace(\n",
    "        go.Bar(x=keys, y=vals, name=f\"Group {i+1}\", hovertemplate=f\"<b>Group {i+1}</b><br><b>Key:</b> %{{x}}<br><b>Value:</b> %{{y}}<extra></extra>\")\n",
    "    )\n",
    "\n",
    "# update layout\n",
    "fig.update_layout(\n",
    "    barmode=\"stack\",\n",
    "    font_family=\"Averta\",\n",
    "    hoverlabel_font_family=\"Averta\",\n",
    "    title_text=\"Bar Chart of Key-Value Pairs\",\n",
    "    xaxis_title_text=\"Keys\",\n",
    "    xaxis_title_font_size=18,\n",
    "    xaxis_tickfont_size=16,\n",
    "    yaxis_title_text=\"Values\",\n",
    "    yaxis_title_font_size=18,\n",
    "    yaxis_tickfont_size=16,\n",
    "    hoverlabel_font_size=16,\n",
    "    legend_font_size=16,\n",
    "    height=600, \n",
    "    width=600\n",
    ")\n",
    "\n",
    "fig.show()"
   ]
  },
  {
   "cell_type": "code",
   "execution_count": 42,
   "id": "2712aaf5-d0a3-4803-9e14-b465af7182f2",
   "metadata": {},
   "outputs": [],
   "source": [
    "# create data\n",
    "data = np.random.normal(size=1000)"
   ]
  },
  {
   "cell_type": "code",
   "execution_count": 47,
   "id": "a4b14d4e-c8b9-4d57-9dad-d6e0950810fe",
   "metadata": {},
   "outputs": [
    {
     "data": {
      "application/vnd.plotly.v1+json": {
       "config": {
        "plotlyServerURL": "https://plotly.com"
       },
       "data": [
        {
         "hovertemplate": "<b>Bin Edges:</b> %{x}",
         "type": "histogram",
         "x": [
          1.1822359224621082,
          -0.9248258490494969,
          0.7724927315532499,
          0.8131949809861618,
          -0.09166353414943139,
          -1.4516081856744631,
          0.7522605460624654,
          0.25189580895036634,
          2.2405438377963307,
          0.15374139441117174,
          -0.7319653813813406,
          -0.4638060432806841,
          -0.8709847086078324,
          -0.19794563025656747,
          0.5708595819915353,
          2.631897244524306,
          0.26263716367663276,
          0.5412028788003698,
          0.5684503815494951,
          0.9059724691091062,
          -0.41341774911215157,
          0.05588967646501913,
          0.05151770238597074,
          0.06458116685490699,
          -0.3696141743342692,
          -0.8939531462243565,
          1.6281681281633373,
          0.10210294965654755,
          -0.011756301201416394,
          -0.5337086603971617,
          0.3674471346433895,
          -0.652926246671803,
          0.26300201916388705,
          -0.4391309342972891,
          -0.8723015090454476,
          -0.25495469904914964,
          0.6402575063552608,
          1.923260676405937,
          -0.5837160841381338,
          1.592471931544233,
          -0.5892424525344399,
          0.3838954633364432,
          1.0751316744465746,
          2.0359610331772253,
          -0.9543810031133455,
          -1.3386277071547068,
          -2.216569807415469,
          -0.964779260442949,
          0.1294920065031822,
          -0.6078888418963684,
          0.21072380432570545,
          -1.725853777725175,
          0.4030849343010578,
          -0.4132304431889096,
          0.9879055650642973,
          0.24869775823891951,
          -0.4383410450188902,
          0.45507585654044463,
          0.5916674065888313,
          -0.1273703443529918,
          -1.1138049763456666,
          0.6502629116221562,
          0.687629573531042,
          -1.3193576252713257,
          -0.9766326658686936,
          -0.18898959218096825,
          -0.6533819825581616,
          0.11778737039711659,
          0.16761782181973414,
          0.625295109027627,
          -1.5385127027515428,
          0.27564988661565026,
          0.07744422351126597,
          -0.4830956696332956,
          -1.1914797945712123,
          -0.4751590797123349,
          -0.5516251237694498,
          0.33992588990940237,
          -0.4022714151606984,
          -0.2924459772597938,
          -0.9689713590900326,
          0.5527278144454383,
          -1.0076533992605956,
          0.4921774151767644,
          -0.4508717200184196,
          0.444683400981189,
          2.034582259059753,
          1.145000955880869,
          0.9029949893699533,
          0.901029955958567,
          0.7124067938740087,
          -2.5511304512324875,
          -0.27209621643498383,
          0.03382790378217062,
          -0.7013611753047215,
          0.45991997328316775,
          -0.2357745775710898,
          -1.391453271984666,
          0.24937475692685102,
          -0.26628129869098793,
          -1.1949113464867762,
          -0.5446196120289651,
          -0.6707002801485684,
          -0.21135854760578238,
          1.2611145195349374,
          1.3566032322101074,
          -0.583183147152747,
          -0.19889445659489927,
          -0.12742109121313694,
          -0.6651336781124729,
          -1.4534078847650687,
          0.8521308137942966,
          -0.5604366348250328,
          -0.8875728378902893,
          0.25928269305990936,
          -0.17976618789516888,
          -0.8189077873109737,
          0.8101361235887442,
          0.39375740529264286,
          -1.0952035163379632,
          2.3234949983249864,
          0.7171216468387249,
          0.40738088972596187,
          1.1417116222257726,
          -2.125768523427844,
          -0.46583492015771266,
          0.4898635570148352,
          0.655749718963362,
          1.3115882949832391,
          1.4128127849167655,
          -1.3009036739902597,
          -1.0206417504918284,
          -0.2882243133143003,
          0.263104576320196,
          0.3118035980749063,
          1.6155633988495448,
          -0.023203436221557436,
          -0.16517527745621313,
          -0.7310242737402226,
          0.39637648121062624,
          0.5206532376467221,
          -0.8819430500159015,
          1.5864340708983427,
          -1.9422269920718638,
          -1.0371449928863121,
          1.495578770276782,
          0.1565751288557777,
          0.8411026964006706,
          0.7076246759752683,
          0.28579301570537463,
          -0.9206600413606228,
          -1.7181512320191703,
          0.025864428394799962,
          1.6144896309888856,
          0.7256515204688107,
          0.12157377215217699,
          0.6567410936123519,
          1.344587597256822,
          -0.5276574045395432,
          -1.6338070663811284,
          0.37354803032062683,
          -0.2445067688242696,
          1.738843342701009,
          -0.0074233059807793,
          -0.7208050250571659,
          -0.7406930678573026,
          0.4349270642727794,
          0.011647522946156327,
          -0.722903494599157,
          0.10940503082384158,
          -1.183356950027425,
          -0.8489503329255829,
          -1.5095713498169092,
          -0.7836568553534558,
          0.6414680054345016,
          1.03165209338341,
          1.0993162150647329,
          -0.48558967671811604,
          -1.598225290906239,
          0.009622322874133431,
          -0.6990171217000656,
          -0.39535544992828375,
          -0.7376150313278077,
          1.1758868650454624,
          0.11225055467203039,
          -0.5459525548702272,
          0.28683316878986864,
          0.930660857793999,
          0.9252324276391122,
          2.4687129711120925,
          0.5821996388186377,
          -0.3067444295126009,
          0.17798859619357088,
          -0.6762339308308892,
          -0.34794315234686457,
          -1.6174722556272574,
          1.005953332082163,
          -1.1651098719502997,
          -1.0786469478217557,
          -0.3587552838769361,
          -0.5866670165502729,
          -0.3668521335183694,
          -1.3767142099880303,
          0.5416529966716129,
          -2.071631867469067,
          -0.5761021814519656,
          1.5487160921995984,
          -0.36805582731068,
          0.27687295450717925,
          0.3772716928165232,
          -0.6263365071095925,
          -0.7228451491183177,
          0.17862112580557296,
          2.1601824475841407,
          0.5143079062978257,
          -1.1728132627426138,
          0.5665710241825296,
          0.7775954774951366,
          1.2461852554463158,
          2.0708099025659523,
          -0.46793348550332636,
          1.990506017421393,
          -0.7624128391037135,
          -1.0512825881237002,
          1.7692445940628962,
          0.5960813520039935,
          0.3977276042146925,
          0.5837443439885954,
          -1.1548448831079188,
          2.3408485121625886,
          0.3904830439422165,
          -0.5506172921938232,
          0.10457290892649707,
          -0.16838612693751476,
          0.6035987233814019,
          -0.38956056749883666,
          1.412551562211551,
          -0.39295219552098715,
          -2.25551676099632,
          -1.0383193267045991,
          1.174977739054933,
          -0.4047305337198407,
          0.5111065828875068,
          1.195264783752727,
          -0.7433417186710986,
          1.4795689287633846,
          0.8939478226153116,
          0.48322685953494304,
          -0.33363887301434664,
          2.396370690162791,
          1.5433580731726029,
          0.37338378863624117,
          0.08181680885841357,
          -0.7834006441680437,
          -0.4007805384212323,
          0.11720890166955769,
          2.068900144457542,
          0.39126479185973795,
          -0.5739775250994328,
          -0.6556544625709123,
          -1.0264239432627702,
          -2.460115354339317,
          0.10470951405040965,
          -0.5064594781122232,
          -0.5945511675871661,
          0.8524592901118956,
          -2.677764082256738,
          0.5863538527303289,
          0.9188982230080318,
          -0.24703432517505391,
          1.6185633078169437,
          0.14715880242652277,
          -0.43486338717532524,
          2.0140996439225263,
          -0.1799645799205803,
          1.4135950363308296,
          2.0681749125421494,
          0.93310014941205,
          -0.7869559833939017,
          -1.4164532441263529,
          0.2746308489475508,
          -1.046703716614717,
          -1.4029691808579423,
          -2.57993318172644,
          0.5568031044720521,
          -0.2041358930421297,
          -0.7637329948436623,
          -0.06657214236066139,
          -0.18518562501636454,
          -0.3027676984366759,
          0.41241530906252505,
          0.012498613049612006,
          -2.4660209174026084,
          -0.6232978571758231,
          -0.32884841909300305,
          0.265770011696947,
          -0.448698083473347,
          -0.44551109833075647,
          -1.4957894227155062,
          -0.7502430279991351,
          -0.11699448944672716,
          -0.8023192914183559,
          0.4895216820844289,
          -0.8431530997170427,
          -0.34937685225516246,
          -0.05279439799225999,
          -1.718180039759325,
          -1.6084863767504523,
          -0.49713194674430444,
          1.696434703396703,
          1.6772029921896705,
          1.4615578313681081,
          -0.27334761987179473,
          1.4156807841519574,
          0.5288028918882591,
          -0.7232595556662942,
          -0.28238110964114066,
          -1.285108114755411,
          -0.40249924294956835,
          -1.4859861583466047,
          0.7838567977761841,
          0.10435891745001347,
          -1.4783242659722144,
          -2.4125515636021286,
          1.2921031181670621,
          1.1078849275978209,
          -0.19058335798636103,
          -0.06256781203480276,
          -0.2626556005486007,
          -2.8865308045603775,
          -0.5193284303657143,
          1.2136579463703066,
          0.547689996481218,
          -1.21854021241897,
          -0.7427111152179078,
          1.8369805979536826,
          0.036823874768508784,
          -0.1702337931236876,
          -0.026475300045072293,
          -0.05379249041374789,
          0.7633881515458547,
          1.429045738292194,
          -1.6636630191023414,
          -0.13083920482803277,
          0.739760866889167,
          0.05105008112747846,
          1.1617633427708252,
          -0.42320273065822017,
          1.486322257339853,
          -0.13693071690131955,
          0.9639933363794169,
          -0.300461264208791,
          -0.3840670109913465,
          1.070513286008652,
          2.9914371412018874,
          0.2912333841388587,
          1.5433723502388543,
          -0.4637741622690752,
          -0.5598383093509085,
          -0.013843648325253248,
          0.1948131197979959,
          -2.172133780237484,
          1.397394934488329,
          -0.9576444229572141,
          -0.30464190850303047,
          -0.6611951409262183,
          0.12595026324468542,
          0.7194529820531326,
          0.3869812137090594,
          1.6798084557753143,
          0.5256029996273857,
          -3.2794728060021536,
          0.026539391348330662,
          -0.4671235705500926,
          0.7756978198449701,
          -0.6473835886706155,
          -0.6398987350351245,
          0.4229694814969077,
          -0.1941915382782859,
          0.1554140895802577,
          0.2172614291583217,
          0.18326392541272038,
          -1.8075405431213383,
          0.46155316581554884,
          -0.8754388302745925,
          -1.0286928219558917,
          0.3462855630339466,
          0.6281712715236869,
          1.1281743529950585,
          0.7274313638399829,
          -1.0470356888618855,
          0.08035589068500791,
          0.21951466708132225,
          0.9758788324278678,
          0.9231759729603312,
          1.0582388145883612,
          0.7587141718899857,
          -1.148387652134999,
          1.562898184981687,
          2.1314752673162474,
          -1.9172855506828517,
          0.5887548381182242,
          0.01705087468847835,
          0.24471404906028135,
          1.25704982255356,
          -0.8498566849708846,
          -1.1275526953984645,
          -1.3797811997787208,
          0.7633136873597267,
          0.0028885505920296707,
          -0.565810278647187,
          -1.9693909912883072,
          0.3230612540481176,
          0.9248699229675805,
          -0.45690381422410575,
          1.2041485046257299,
          0.7680662597435908,
          0.4822019219934572,
          -0.2242071979335398,
          -0.4497057887471876,
          0.8834189901075745,
          0.40366389135456465,
          -0.4992182207291488,
          0.022271260962177474,
          0.5740150435486276,
          -0.6980331992195548,
          0.5845090930103745,
          0.8785164474623685,
          -0.41091058003133235,
          -0.3448300957936841,
          -1.2685583101851239,
          0.2388591209602018,
          0.35793866625311377,
          -1.0052409005595517,
          1.9666568314380042,
          0.4402508749064662,
          -0.36314402542355423,
          0.2888084781977062,
          -1.2287434245205995,
          1.518199323612002,
          1.8058052075970712,
          0.020958677593355072,
          1.7896514215263823,
          -0.1153136705874254,
          -0.21044267873128966,
          -2.4729375117537944,
          1.0254918508576458,
          -1.0883071319324178,
          0.5432249952491723,
          -0.1266071090888689,
          -0.971628042913522,
          -0.7873148605863399,
          1.7349259913779589,
          1.9709277946714552,
          -0.5090105897661055,
          1.1074172682670478,
          1.0851849969638432,
          -1.5381855802558508,
          1.1621654731529523,
          -0.10413894244794637,
          1.0307954305080815,
          -0.7266445777359317,
          -1.2304987352282168,
          -1.6890995173054415,
          0.7838076900783277,
          0.8506501021485378,
          1.414010969730118,
          -1.0288371138317565,
          -1.4604787084205506,
          0.18163937657473514,
          0.5548244159894412,
          0.28344612999622254,
          -0.29501791500021085,
          1.3254482730876458,
          -1.1245269518851144,
          -1.4026596040561479,
          2.129090112703398,
          1.5760810182708536,
          0.3893355623907753,
          -0.45996405030590465,
          -0.9004442665839096,
          1.9135022772946653,
          -0.11274801683846583,
          0.18782775664873902,
          0.30662969397462825,
          0.9577942793593799,
          0.01160026028271023,
          0.6976436418459379,
          -0.12627792325062007,
          -1.6315470610675618,
          -0.6842624260935382,
          0.27765184066409593,
          1.1754929911314318,
          0.49876433264138076,
          0.34278972709757993,
          -1.170910014764809,
          0.9101308628376951,
          0.08945736734267462,
          -0.9223963453419062,
          0.02615615220876581,
          0.03406278354097083,
          0.280035374167911,
          -0.1371717304785188,
          -1.2174239388961707,
          0.23558687630144137,
          -1.1642424471300494,
          -0.7257315071842784,
          0.10616724811690867,
          0.08894442074690319,
          -0.3104328508372484,
          0.23264782040949702,
          1.070479650929342,
          1.1387310142849483,
          0.10901760001541971,
          -0.07625995553421802,
          -0.18412582678417025,
          0.3271763956225195,
          -1.0396027110775492,
          -0.5948480185240312,
          1.2328850384246672,
          1.5862558528678434,
          1.7633377290624022,
          -0.8250338704936722,
          0.7672370724819321,
          2.394819576244299,
          -1.0425722507208586,
          0.40567029240477986,
          0.6121203114141002,
          -1.6250797675037894,
          -0.06808978790109742,
          -0.5500126667764862,
          -0.1563990227700353,
          -0.3125541306175057,
          0.915353964876272,
          0.7346084125635337,
          0.677972639068999,
          -0.6353960277834594,
          0.2940160281205232,
          0.6996330206017425,
          -1.003968423447799,
          0.29781650354500705,
          -2.010948642386949,
          -0.312878114327559,
          -0.8224339093826628,
          0.3202201911126016,
          -1.3026486368655434,
          1.9499411433922091,
          0.332004672780549,
          0.9143963645461801,
          -1.2543937270889254,
          0.18897723705091268,
          -1.680897471069792,
          -3.3055402834333614,
          -1.0940086924112002,
          0.3966716536575304,
          0.14400085418793343,
          -0.3817752039581627,
          0.3755632010471298,
          0.6993029870091373,
          0.3938977315344408,
          0.7159352285537195,
          0.16579506538764807,
          1.1215416353494356,
          -0.14767234632255624,
          -0.6983458127691122,
          0.019345676212216903,
          2.2239204223771027,
          0.30436299152216384,
          -0.8139555117163036,
          1.0090655432320705,
          0.1104139332366668,
          0.06344790404279697,
          -0.4223850149597937,
          -0.4274355549728242,
          -1.3220587024970307,
          1.4005139787782612,
          -1.467547146664638,
          -0.3269646352908121,
          1.0716628623370832,
          0.009841248399906766,
          -2.4579012887686136,
          -0.6222683546438071,
          -1.5877886680969244,
          1.1955453995609902,
          0.646897796697455,
          -0.05080546122267528,
          -0.9164718921127044,
          -0.014380276076671476,
          -0.5782576184851395,
          -0.6925853644551557,
          2.2857811212747783,
          0.5730260953022697,
          -0.3304661689153124,
          0.5343320004132376,
          1.1784034958779297,
          0.5724688887655262,
          0.486900131847302,
          1.5928515566941701,
          -0.714441265389936,
          -0.2317117798789254,
          1.9847871215861466,
          -0.45992900124286606,
          0.8034496441784795,
          -0.3438752539158123,
          0.45537523788485784,
          2.190182965557712,
          -2.358380253459743,
          -0.42746264371946335,
          1.1742973441282463,
          1.233397779131058,
          0.5872403401062752,
          1.0250642315884964,
          -0.26558839648995214,
          -0.6031550608127577,
          -0.15089129117194702,
          0.25890615815907986,
          -0.4990943713599055,
          2.0450687002992165,
          -0.29773989286118085,
          0.26760834406315215,
          -1.4286374372820727,
          -1.3103325221002076,
          0.3152630473518147,
          1.8422894505220824,
          -0.9523241912162512,
          -1.5081892239991064,
          1.7694248566718254,
          -0.6217288405875832,
          -0.5044135423851834,
          -1.0305962068252859,
          -0.7745842041981651,
          -0.8307156790645885,
          -0.1760481305804773,
          1.6281696655744788,
          -0.3561954055175472,
          -0.0578142648966468,
          1.0009084591789892,
          -0.5301403957704516,
          2.2309353468059885,
          0.9180500764791822,
          -0.007395985574599946,
          0.4164898440868999,
          0.7892877075244432,
          -0.052288762621997636,
          -0.13986620597740607,
          0.14727783969615324,
          0.1318200965070399,
          -0.5454068058927474,
          -0.30068360864336124,
          0.828718789337574,
          1.5079371503382462,
          -1.0682197424747388,
          -1.7678223078472148,
          -0.6281705071300209,
          0.5498023767274327,
          -0.38845887110446825,
          -0.07764721995667791,
          0.9538049761031671,
          -1.0346299729692316,
          -0.05394921080402772,
          -1.3012213265760035,
          -0.4993076479012606,
          0.17257437784048488,
          0.1764209116994212,
          0.14228214335211667,
          -1.1238838361872874,
          -0.48518962788323555,
          0.9652571836582058,
          0.9107347273024929,
          0.4124134132880032,
          -0.7513945650056699,
          -1.1789337865853549,
          -0.2910868117917563,
          0.3093125966373114,
          -0.5339473751218172,
          0.014465770981512723,
          -0.7232779315535258,
          0.8713561267596831,
          -1.836143035998997,
          0.1117428823229774,
          0.6556552674658873,
          1.2677573418062549,
          -0.9741042768613174,
          -0.08901515372216469,
          -0.3031511519485478,
          -1.347509729622036,
          1.2197539973496643,
          -0.841457295241923,
          -1.9667753807308828,
          1.001075071462788,
          0.3424456188877749,
          1.005052912104975,
          -0.48569465573696685,
          0.0019224194588347147,
          0.3066377524143591,
          1.3346228167149723,
          -0.22677865024929758,
          1.2170316118684983,
          -0.33563955721818,
          0.09765206300157402,
          -0.60874992865456,
          0.5572776790911472,
          1.4962092895265184,
          -0.827237924886609,
          -0.17976100324304278,
          0.5609566197307714,
          -1.751843965662652,
          0.6293990984493966,
          0.9920871243030978,
          0.4416721037786293,
          -0.08618957873406634,
          0.5046080348496903,
          0.42549609718522485,
          -2.134699286915325,
          0.9003099782169088,
          -0.04961559719599621,
          0.9751863562213092,
          -0.2674495645837627,
          -0.07355417260654708,
          -1.1696942562758328,
          0.18010060301697076,
          -1.2527601175252479,
          -0.8563270925652279,
          -1.0574813478009146,
          -1.112639799276405,
          -1.1551097151209455,
          0.4405459940117039,
          -0.750467601652612,
          -0.317483154335774,
          0.8249984650712155,
          -0.5701876732467748,
          0.6553995378983194,
          -0.39871274973831744,
          -1.2661759211447272,
          0.16954030748311916,
          -1.1154243403506499,
          1.1282296315049034,
          -1.5811800604419843,
          0.2949395620082735,
          -0.09770845762784591,
          0.5855403642899043,
          -1.385904302426362,
          0.32834465607463525,
          2.3369491127261095,
          0.16640778297205555,
          0.9925103362105889,
          -0.8948508670797635,
          0.12334895609652323,
          0.7218665083226972,
          1.518220070580375,
          1.7649905880895753,
          -0.5084347381978432,
          -0.20595492887357988,
          -0.8007499108077758,
          0.39773704782642216,
          -0.15548331579922206,
          -1.315061681935066,
          0.07618464824386105,
          0.25739447929536374,
          1.745598941987634,
          0.194874365291034,
          0.05911250496389609,
          -0.28948571179272903,
          -0.9782999110586483,
          -0.35538320287234293,
          0.9815966179970202,
          0.1662951056878866,
          -0.5820312833937138,
          0.7939957495960576,
          1.476162027257153,
          2.6790466975252243,
          -1.22704803052555,
          0.6502547702572032,
          0.30778431285819524,
          -1.6917214955422117,
          1.0357027700595753,
          2.379238160068621,
          -0.38739311684208066,
          -0.357585404717076,
          0.33352329499105793,
          -0.6757725609723416,
          -0.6497674881039321,
          -0.8161278791420461,
          -0.7365051265370525,
          0.0891057450949356,
          -0.2385885271135618,
          -0.0018178193410681941,
          -0.5513246290959478,
          -0.34520199920475164,
          1.9587122320497294,
          -0.24394457045633774,
          0.2201355796950754,
          2.5068608696024297,
          -1.4076024613467213,
          -0.13654570604293417,
          -1.4852029518717456,
          0.338079985299944,
          0.4602511933364773,
          1.1949739220451057,
          0.6183307572156174,
          -0.4973794602715916,
          0.06743702398363524,
          2.365559718606251,
          -0.23970400180227622,
          0.5163919095228335,
          -0.8729270031538571,
          0.2331834407249019,
          0.6255096843749683,
          0.5922093714014366,
          -0.8237494662632757,
          1.4472541248368962,
          0.8440366274140236,
          -0.6910309749681718,
          0.24890043316598898,
          0.24048617584832985,
          0.09452299692786811,
          -0.15377670827755813,
          0.0697189323750591,
          0.17855161193004315,
          -0.4692564657604673,
          -0.37323636180318875,
          -1.13841059123911,
          1.1958765387430415,
          1.7580583551615256,
          -1.4670998293894522,
          -1.1001933294222122,
          1.4207296519055757,
          1.3124408182512006,
          1.0166768447265326,
          -1.646920487887373,
          0.374950166733258,
          -1.1808715105090333,
          -0.7740584981834787,
          -1.652671973004254,
          1.4967900397223386,
          0.16688948676304927,
          -0.7205519870270946,
          -0.40327576343624016,
          -0.21117404112998064,
          -1.2890187157856223,
          -1.171334307598277,
          0.8030036517645139,
          -0.46865925436521555,
          -0.8356024100639527,
          0.7514627942863398,
          0.2872382532766748,
          0.024765309855821677,
          1.6303726215134056,
          -1.4375752283716372,
          -0.6006607425281789,
          -0.8401765764915453,
          -0.677575796934742,
          0.7211577410129687,
          -0.12762555671758186,
          0.06273249644424866,
          -1.0916424149946988,
          0.9810897231819052,
          -0.7257028979239972,
          0.23825087920656515,
          -0.9305297950827428,
          -0.28323103824769347,
          -0.5157120805774981,
          -0.0011365546100738564,
          -1.303528953470802,
          0.7660158559336598,
          -1.5887684778869116,
          0.8382399218987115,
          0.8134317634346497,
          1.1587784073995053,
          -0.24850658159518793,
          0.20836544459109077,
          0.3485175690660943,
          -0.6384722236192818,
          -1.0792293332059,
          1.2532608703455108,
          0.9898062499290697,
          1.4448654602896491,
          -1.0663365935903317,
          0.5570043235671198,
          0.08262770068635007,
          0.20038754533767994,
          -1.070739340191614,
          -0.7934305376727111,
          -1.1325117432118106,
          1.3281842504405805,
          0.3758740066159437,
          -0.5850974477882119,
          0.8115002129659706,
          0.7465713134666259,
          -0.9419497293407216,
          -1.0111466214036773,
          -0.5420191059250746,
          0.05357493942736241,
          -0.40651663315508996,
          0.8272536316684671,
          1.013784035971377,
          0.5495404436874753,
          0.4289028638008948,
          0.5289957709013641,
          -0.0201872787904155,
          -1.3197257571340602,
          1.1736405050974803,
          0.04351147125353086,
          0.40257920524497326,
          0.22313602154385928,
          1.0414058806648654,
          0.8583769274337546,
          2.063725220115451,
          1.9146688097315723,
          -0.401695336817805,
          0.3759540651787947,
          0.6079957277526373,
          1.3170158752515473,
          -0.9839024459225852,
          0.9834221507401596,
          0.24662775577465057,
          -0.1352696713090875,
          -0.77067681915865,
          0.4878772628850089,
          0.8653901260390962,
          -1.0007587963277789,
          -2.9159717194546375,
          0.7308323253074573,
          0.8730312831215934,
          0.44275618792655835,
          1.277781595599418,
          0.36042610021410465,
          0.663683104009534,
          0.6962759305286674,
          1.1298346721925843,
          -1.1829352628276366,
          -0.41517482262153127,
          -0.21746500190190332,
          -1.0649433460627213,
          -1.6981084440322582,
          0.0056513031607572225,
          0.7142064296800242,
          -0.48922827563317556,
          0.14030086189565422,
          0.7206220659742383,
          0.10442431449553415,
          0.23784926327759331,
          0.6558187022179433,
          0.4767888934325061,
          0.7067207214950361,
          -1.8513114919556037,
          -0.6397752752176866,
          -0.40443399207445757,
          0.939127869049251,
          1.314371785526899,
          0.3189407512464143,
          0.0397581493780525,
          -0.03201144315348125,
          -0.426541861945001,
          0.5003123368218741,
          0.2725368081378138,
          0.15751141862398135,
          -0.5943661499869436,
          1.169574491897055,
          0.47136106878441003,
          -0.7873526724597864,
          0.6298692276171775,
          0.5130358717875381,
          -0.25027787863015416,
          0.1288522613494617,
          2.5822128716322617,
          0.4534934411917305,
          0.6185227040713991,
          -1.1234007788722575,
          0.1749263727523224,
          -0.5119198515340727,
          -0.1801728822003164,
          0.19231811549450387,
          -0.2141718485894089,
          0.11774762320505819,
          -0.6307115652099177,
          1.6509171209796645,
          -0.05440032966177964,
          -0.7897525776992674,
          0.9401455892450814,
          -0.5438673532632652,
          -1.19152827810965,
          -0.5329386781520568,
          0.1963728486705991,
          -0.8668924042955477,
          0.17527761637073458,
          -0.4977506812675909,
          0.08386569545082335,
          1.1501913893037605,
          0.35379477778030655,
          0.3011478462612861,
          -1.0458832614939044,
          1.5199594612052796,
          0.35299460805691496,
          -1.043909283645229,
          -0.09931247013701196,
          -0.3475787642605159,
          -0.33282249464417757,
          -0.5787492078058035,
          -1.4493037527996127
         ]
        }
       ],
       "layout": {
        "autosize": true,
        "template": {
         "data": {
          "bar": [
           {
            "error_x": {
             "color": "#2a3f5f"
            },
            "error_y": {
             "color": "#2a3f5f"
            },
            "marker": {
             "line": {
              "color": "#E5ECF6",
              "width": 0.5
             },
             "pattern": {
              "fillmode": "overlay",
              "size": 10,
              "solidity": 0.2
             }
            },
            "type": "bar"
           }
          ],
          "barpolar": [
           {
            "marker": {
             "line": {
              "color": "#E5ECF6",
              "width": 0.5
             },
             "pattern": {
              "fillmode": "overlay",
              "size": 10,
              "solidity": 0.2
             }
            },
            "type": "barpolar"
           }
          ],
          "carpet": [
           {
            "aaxis": {
             "endlinecolor": "#2a3f5f",
             "gridcolor": "white",
             "linecolor": "white",
             "minorgridcolor": "white",
             "startlinecolor": "#2a3f5f"
            },
            "baxis": {
             "endlinecolor": "#2a3f5f",
             "gridcolor": "white",
             "linecolor": "white",
             "minorgridcolor": "white",
             "startlinecolor": "#2a3f5f"
            },
            "type": "carpet"
           }
          ],
          "choropleth": [
           {
            "colorbar": {
             "outlinewidth": 0,
             "ticks": ""
            },
            "type": "choropleth"
           }
          ],
          "contour": [
           {
            "colorbar": {
             "outlinewidth": 0,
             "ticks": ""
            },
            "colorscale": [
             [
              0,
              "#0d0887"
             ],
             [
              0.1111111111111111,
              "#46039f"
             ],
             [
              0.2222222222222222,
              "#7201a8"
             ],
             [
              0.3333333333333333,
              "#9c179e"
             ],
             [
              0.4444444444444444,
              "#bd3786"
             ],
             [
              0.5555555555555556,
              "#d8576b"
             ],
             [
              0.6666666666666666,
              "#ed7953"
             ],
             [
              0.7777777777777778,
              "#fb9f3a"
             ],
             [
              0.8888888888888888,
              "#fdca26"
             ],
             [
              1,
              "#f0f921"
             ]
            ],
            "type": "contour"
           }
          ],
          "contourcarpet": [
           {
            "colorbar": {
             "outlinewidth": 0,
             "ticks": ""
            },
            "type": "contourcarpet"
           }
          ],
          "heatmap": [
           {
            "colorbar": {
             "outlinewidth": 0,
             "ticks": ""
            },
            "colorscale": [
             [
              0,
              "#0d0887"
             ],
             [
              0.1111111111111111,
              "#46039f"
             ],
             [
              0.2222222222222222,
              "#7201a8"
             ],
             [
              0.3333333333333333,
              "#9c179e"
             ],
             [
              0.4444444444444444,
              "#bd3786"
             ],
             [
              0.5555555555555556,
              "#d8576b"
             ],
             [
              0.6666666666666666,
              "#ed7953"
             ],
             [
              0.7777777777777778,
              "#fb9f3a"
             ],
             [
              0.8888888888888888,
              "#fdca26"
             ],
             [
              1,
              "#f0f921"
             ]
            ],
            "type": "heatmap"
           }
          ],
          "heatmapgl": [
           {
            "colorbar": {
             "outlinewidth": 0,
             "ticks": ""
            },
            "colorscale": [
             [
              0,
              "#0d0887"
             ],
             [
              0.1111111111111111,
              "#46039f"
             ],
             [
              0.2222222222222222,
              "#7201a8"
             ],
             [
              0.3333333333333333,
              "#9c179e"
             ],
             [
              0.4444444444444444,
              "#bd3786"
             ],
             [
              0.5555555555555556,
              "#d8576b"
             ],
             [
              0.6666666666666666,
              "#ed7953"
             ],
             [
              0.7777777777777778,
              "#fb9f3a"
             ],
             [
              0.8888888888888888,
              "#fdca26"
             ],
             [
              1,
              "#f0f921"
             ]
            ],
            "type": "heatmapgl"
           }
          ],
          "histogram": [
           {
            "marker": {
             "pattern": {
              "fillmode": "overlay",
              "size": 10,
              "solidity": 0.2
             }
            },
            "type": "histogram"
           }
          ],
          "histogram2d": [
           {
            "colorbar": {
             "outlinewidth": 0,
             "ticks": ""
            },
            "colorscale": [
             [
              0,
              "#0d0887"
             ],
             [
              0.1111111111111111,
              "#46039f"
             ],
             [
              0.2222222222222222,
              "#7201a8"
             ],
             [
              0.3333333333333333,
              "#9c179e"
             ],
             [
              0.4444444444444444,
              "#bd3786"
             ],
             [
              0.5555555555555556,
              "#d8576b"
             ],
             [
              0.6666666666666666,
              "#ed7953"
             ],
             [
              0.7777777777777778,
              "#fb9f3a"
             ],
             [
              0.8888888888888888,
              "#fdca26"
             ],
             [
              1,
              "#f0f921"
             ]
            ],
            "type": "histogram2d"
           }
          ],
          "histogram2dcontour": [
           {
            "colorbar": {
             "outlinewidth": 0,
             "ticks": ""
            },
            "colorscale": [
             [
              0,
              "#0d0887"
             ],
             [
              0.1111111111111111,
              "#46039f"
             ],
             [
              0.2222222222222222,
              "#7201a8"
             ],
             [
              0.3333333333333333,
              "#9c179e"
             ],
             [
              0.4444444444444444,
              "#bd3786"
             ],
             [
              0.5555555555555556,
              "#d8576b"
             ],
             [
              0.6666666666666666,
              "#ed7953"
             ],
             [
              0.7777777777777778,
              "#fb9f3a"
             ],
             [
              0.8888888888888888,
              "#fdca26"
             ],
             [
              1,
              "#f0f921"
             ]
            ],
            "type": "histogram2dcontour"
           }
          ],
          "mesh3d": [
           {
            "colorbar": {
             "outlinewidth": 0,
             "ticks": ""
            },
            "type": "mesh3d"
           }
          ],
          "parcoords": [
           {
            "line": {
             "colorbar": {
              "outlinewidth": 0,
              "ticks": ""
             }
            },
            "type": "parcoords"
           }
          ],
          "pie": [
           {
            "automargin": true,
            "type": "pie"
           }
          ],
          "scatter": [
           {
            "marker": {
             "colorbar": {
              "outlinewidth": 0,
              "ticks": ""
             }
            },
            "type": "scatter"
           }
          ],
          "scatter3d": [
           {
            "line": {
             "colorbar": {
              "outlinewidth": 0,
              "ticks": ""
             }
            },
            "marker": {
             "colorbar": {
              "outlinewidth": 0,
              "ticks": ""
             }
            },
            "type": "scatter3d"
           }
          ],
          "scattercarpet": [
           {
            "marker": {
             "colorbar": {
              "outlinewidth": 0,
              "ticks": ""
             }
            },
            "type": "scattercarpet"
           }
          ],
          "scattergeo": [
           {
            "marker": {
             "colorbar": {
              "outlinewidth": 0,
              "ticks": ""
             }
            },
            "type": "scattergeo"
           }
          ],
          "scattergl": [
           {
            "marker": {
             "colorbar": {
              "outlinewidth": 0,
              "ticks": ""
             }
            },
            "type": "scattergl"
           }
          ],
          "scattermapbox": [
           {
            "marker": {
             "colorbar": {
              "outlinewidth": 0,
              "ticks": ""
             }
            },
            "type": "scattermapbox"
           }
          ],
          "scatterpolar": [
           {
            "marker": {
             "colorbar": {
              "outlinewidth": 0,
              "ticks": ""
             }
            },
            "type": "scatterpolar"
           }
          ],
          "scatterpolargl": [
           {
            "marker": {
             "colorbar": {
              "outlinewidth": 0,
              "ticks": ""
             }
            },
            "type": "scatterpolargl"
           }
          ],
          "scatterternary": [
           {
            "marker": {
             "colorbar": {
              "outlinewidth": 0,
              "ticks": ""
             }
            },
            "type": "scatterternary"
           }
          ],
          "surface": [
           {
            "colorbar": {
             "outlinewidth": 0,
             "ticks": ""
            },
            "colorscale": [
             [
              0,
              "#0d0887"
             ],
             [
              0.1111111111111111,
              "#46039f"
             ],
             [
              0.2222222222222222,
              "#7201a8"
             ],
             [
              0.3333333333333333,
              "#9c179e"
             ],
             [
              0.4444444444444444,
              "#bd3786"
             ],
             [
              0.5555555555555556,
              "#d8576b"
             ],
             [
              0.6666666666666666,
              "#ed7953"
             ],
             [
              0.7777777777777778,
              "#fb9f3a"
             ],
             [
              0.8888888888888888,
              "#fdca26"
             ],
             [
              1,
              "#f0f921"
             ]
            ],
            "type": "surface"
           }
          ],
          "table": [
           {
            "cells": {
             "fill": {
              "color": "#EBF0F8"
             },
             "line": {
              "color": "white"
             }
            },
            "header": {
             "fill": {
              "color": "#C8D4E3"
             },
             "line": {
              "color": "white"
             }
            },
            "type": "table"
           }
          ]
         },
         "layout": {
          "annotationdefaults": {
           "arrowcolor": "#2a3f5f",
           "arrowhead": 0,
           "arrowwidth": 1
          },
          "autotypenumbers": "strict",
          "coloraxis": {
           "colorbar": {
            "outlinewidth": 0,
            "ticks": ""
           }
          },
          "colorscale": {
           "diverging": [
            [
             0,
             "#8e0152"
            ],
            [
             0.1,
             "#c51b7d"
            ],
            [
             0.2,
             "#de77ae"
            ],
            [
             0.3,
             "#f1b6da"
            ],
            [
             0.4,
             "#fde0ef"
            ],
            [
             0.5,
             "#f7f7f7"
            ],
            [
             0.6,
             "#e6f5d0"
            ],
            [
             0.7,
             "#b8e186"
            ],
            [
             0.8,
             "#7fbc41"
            ],
            [
             0.9,
             "#4d9221"
            ],
            [
             1,
             "#276419"
            ]
           ],
           "sequential": [
            [
             0,
             "#0d0887"
            ],
            [
             0.1111111111111111,
             "#46039f"
            ],
            [
             0.2222222222222222,
             "#7201a8"
            ],
            [
             0.3333333333333333,
             "#9c179e"
            ],
            [
             0.4444444444444444,
             "#bd3786"
            ],
            [
             0.5555555555555556,
             "#d8576b"
            ],
            [
             0.6666666666666666,
             "#ed7953"
            ],
            [
             0.7777777777777778,
             "#fb9f3a"
            ],
            [
             0.8888888888888888,
             "#fdca26"
            ],
            [
             1,
             "#f0f921"
            ]
           ],
           "sequentialminus": [
            [
             0,
             "#0d0887"
            ],
            [
             0.1111111111111111,
             "#46039f"
            ],
            [
             0.2222222222222222,
             "#7201a8"
            ],
            [
             0.3333333333333333,
             "#9c179e"
            ],
            [
             0.4444444444444444,
             "#bd3786"
            ],
            [
             0.5555555555555556,
             "#d8576b"
            ],
            [
             0.6666666666666666,
             "#ed7953"
            ],
            [
             0.7777777777777778,
             "#fb9f3a"
            ],
            [
             0.8888888888888888,
             "#fdca26"
            ],
            [
             1,
             "#f0f921"
            ]
           ]
          },
          "colorway": [
           "#636efa",
           "#EF553B",
           "#00cc96",
           "#ab63fa",
           "#FFA15A",
           "#19d3f3",
           "#FF6692",
           "#B6E880",
           "#FF97FF",
           "#FECB52"
          ],
          "font": {
           "color": "#2a3f5f"
          },
          "geo": {
           "bgcolor": "white",
           "lakecolor": "white",
           "landcolor": "#E5ECF6",
           "showlakes": true,
           "showland": true,
           "subunitcolor": "white"
          },
          "hoverlabel": {
           "align": "left"
          },
          "hovermode": "closest",
          "mapbox": {
           "style": "light"
          },
          "paper_bgcolor": "white",
          "plot_bgcolor": "#E5ECF6",
          "polar": {
           "angularaxis": {
            "gridcolor": "white",
            "linecolor": "white",
            "ticks": ""
           },
           "bgcolor": "#E5ECF6",
           "radialaxis": {
            "gridcolor": "white",
            "linecolor": "white",
            "ticks": ""
           }
          },
          "scene": {
           "xaxis": {
            "backgroundcolor": "#E5ECF6",
            "gridcolor": "white",
            "gridwidth": 2,
            "linecolor": "white",
            "showbackground": true,
            "ticks": "",
            "zerolinecolor": "white"
           },
           "yaxis": {
            "backgroundcolor": "#E5ECF6",
            "gridcolor": "white",
            "gridwidth": 2,
            "linecolor": "white",
            "showbackground": true,
            "ticks": "",
            "zerolinecolor": "white"
           },
           "zaxis": {
            "backgroundcolor": "#E5ECF6",
            "gridcolor": "white",
            "gridwidth": 2,
            "linecolor": "white",
            "showbackground": true,
            "ticks": "",
            "zerolinecolor": "white"
           }
          },
          "shapedefaults": {
           "line": {
            "color": "#2a3f5f"
           }
          },
          "ternary": {
           "aaxis": {
            "gridcolor": "white",
            "linecolor": "white",
            "ticks": ""
           },
           "baxis": {
            "gridcolor": "white",
            "linecolor": "white",
            "ticks": ""
           },
           "bgcolor": "#E5ECF6",
           "caxis": {
            "gridcolor": "white",
            "linecolor": "white",
            "ticks": ""
           }
          },
          "title": {
           "x": 0.05
          },
          "xaxis": {
           "automargin": true,
           "gridcolor": "white",
           "linecolor": "white",
           "ticks": "",
           "title": {
            "standoff": 15
           },
           "zerolinecolor": "white",
           "zerolinewidth": 2
          },
          "yaxis": {
           "automargin": true,
           "gridcolor": "white",
           "linecolor": "white",
           "ticks": "",
           "title": {
            "standoff": 15
           },
           "zerolinecolor": "white",
           "zerolinewidth": 2
          }
         }
        },
        "xaxis": {
         "autorange": true,
         "range": [
          -3.3999999999999995,
          3
         ],
         "type": "linear"
        },
        "yaxis": {
         "autorange": true,
         "range": [
          0,
          98.94736842105263
         ]
        }
       }
      },
      "image/png": "[encoded data removed]",
      "text/html": [
       "<div>                            <div id=\"a2009bdc-7fe8-4653-8e4d-6dd1df781f2b\" class=\"plotly-graph-div\" style=\"height:525px; width:100%;\"></div>            <script type=\"text/javascript\">                require([\"plotly\"], function(Plotly) {                    window.PLOTLYENV=window.PLOTLYENV || {};                                    if (document.getElementById(\"a2009bdc-7fe8-4653-8e4d-6dd1df781f2b\")) {                    Plotly.newPlot(                        \"a2009bdc-7fe8-4653-8e4d-6dd1df781f2b\",                        [{\"hovertemplate\":\"<b>Bin Edges:</b> %{x}\",\"x\":[1.1822359224621082,-0.9248258490494969,0.7724927315532499,0.8131949809861618,-0.09166353414943139,-1.4516081856744631,0.7522605460624654,0.25189580895036634,2.2405438377963307,0.15374139441117174,-0.7319653813813406,-0.4638060432806841,-0.8709847086078324,-0.19794563025656747,0.5708595819915353,2.631897244524306,0.26263716367663276,0.5412028788003698,0.5684503815494951,0.9059724691091062,-0.41341774911215157,0.05588967646501913,0.05151770238597074,0.06458116685490699,-0.3696141743342692,-0.8939531462243565,1.6281681281633373,0.10210294965654755,-0.011756301201416394,-0.5337086603971617,0.3674471346433895,-0.652926246671803,0.26300201916388705,-0.4391309342972891,-0.8723015090454476,-0.25495469904914964,0.6402575063552608,1.923260676405937,-0.5837160841381338,1.592471931544233,-0.5892424525344399,0.3838954633364432,1.0751316744465746,2.0359610331772253,-0.9543810031133455,-1.3386277071547068,-2.216569807415469,-0.964779260442949,0.1294920065031822,-0.6078888418963684,0.21072380432570545,-1.725853777725175,0.4030849343010578,-0.4132304431889096,0.9879055650642973,0.24869775823891951,-0.4383410450188902,0.45507585654044463,0.5916674065888313,-0.1273703443529918,-1.1138049763456666,0.6502629116221562,0.687629573531042,-1.3193576252713257,-0.9766326658686936,-0.18898959218096825,-0.6533819825581616,0.11778737039711659,0.16761782181973414,0.625295109027627,-1.5385127027515428,0.27564988661565026,0.07744422351126597,-0.4830956696332956,-1.1914797945712123,-0.4751590797123349,-0.5516251237694498,0.33992588990940237,-0.4022714151606984,-0.2924459772597938,-0.9689713590900326,0.5527278144454383,-1.0076533992605956,0.4921774151767644,-0.4508717200184196,0.444683400981189,2.034582259059753,1.145000955880869,0.9029949893699533,0.901029955958567,0.7124067938740087,-2.5511304512324875,-0.27209621643498383,0.03382790378217062,-0.7013611753047215,0.45991997328316775,-0.2357745775710898,-1.391453271984666,0.24937475692685102,-0.26628129869098793,-1.1949113464867762,-0.5446196120289651,-0.6707002801485684,-0.21135854760578238,1.2611145195349374,1.3566032322101074,-0.583183147152747,-0.19889445659489927,-0.12742109121313694,-0.6651336781124729,-1.4534078847650687,0.8521308137942966,-0.5604366348250328,-0.8875728378902893,0.25928269305990936,-0.17976618789516888,-0.8189077873109737,0.8101361235887442,0.39375740529264286,-1.0952035163379632,2.3234949983249864,0.7171216468387249,0.40738088972596187,1.1417116222257726,-2.125768523427844,-0.46583492015771266,0.4898635570148352,0.655749718963362,1.3115882949832391,1.4128127849167655,-1.3009036739902597,-1.0206417504918284,-0.2882243133143003,0.263104576320196,0.3118035980749063,1.6155633988495448,-0.023203436221557436,-0.16517527745621313,-0.7310242737402226,0.39637648121062624,0.5206532376467221,-0.8819430500159015,1.5864340708983427,-1.9422269920718638,-1.0371449928863121,1.495578770276782,0.1565751288557777,0.8411026964006706,0.7076246759752683,0.28579301570537463,-0.9206600413606228,-1.7181512320191703,0.025864428394799962,1.6144896309888856,0.7256515204688107,0.12157377215217699,0.6567410936123519,1.344587597256822,-0.5276574045395432,-1.6338070663811284,0.37354803032062683,-0.2445067688242696,1.738843342701009,-0.0074233059807793,-0.7208050250571659,-0.7406930678573026,0.4349270642727794,0.011647522946156327,-0.722903494599157,0.10940503082384158,-1.183356950027425,-0.8489503329255829,-1.5095713498169092,-0.7836568553534558,0.6414680054345016,1.03165209338341,1.0993162150647329,-0.48558967671811604,-1.598225290906239,0.009622322874133431,-0.6990171217000656,-0.39535544992828375,-0.7376150313278077,1.1758868650454624,0.11225055467203039,-0.5459525548702272,0.28683316878986864,0.930660857793999,0.9252324276391122,2.4687129711120925,0.5821996388186377,-0.3067444295126009,0.17798859619357088,-0.6762339308308892,-0.34794315234686457,-1.6174722556272574,1.005953332082163,-1.1651098719502997,-1.0786469478217557,-0.3587552838769361,-0.5866670165502729,-0.3668521335183694,-1.3767142099880303,0.5416529966716129,-2.071631867469067,-0.5761021814519656,1.5487160921995984,-0.36805582731068,0.27687295450717925,0.3772716928165232,-0.6263365071095925,-0.7228451491183177,0.17862112580557296,2.1601824475841407,0.5143079062978257,-1.1728132627426138,0.5665710241825296,0.7775954774951366,1.2461852554463158,2.0708099025659523,-0.46793348550332636,1.990506017421393,-0.7624128391037135,-1.0512825881237002,1.7692445940628962,0.5960813520039935,0.3977276042146925,0.5837443439885954,-1.1548448831079188,2.3408485121625886,0.3904830439422165,-0.5506172921938232,0.10457290892649707,-0.16838612693751476,0.6035987233814019,-0.38956056749883666,1.412551562211551,-0.39295219552098715,-2.25551676099632,-1.0383193267045991,1.174977739054933,-0.4047305337198407,0.5111065828875068,1.195264783752727,-0.7433417186710986,1.4795689287633846,0.8939478226153116,0.48322685953494304,-0.33363887301434664,2.396370690162791,1.5433580731726029,0.37338378863624117,0.08181680885841357,-0.7834006441680437,-0.4007805384212323,0.11720890166955769,2.068900144457542,0.39126479185973795,-0.5739775250994328,-0.6556544625709123,-1.0264239432627702,-2.460115354339317,0.10470951405040965,-0.5064594781122232,-0.5945511675871661,0.8524592901118956,-2.677764082256738,0.5863538527303289,0.9188982230080318,-0.24703432517505391,1.6185633078169437,0.14715880242652277,-0.43486338717532524,2.0140996439225263,-0.1799645799205803,1.4135950363308296,2.0681749125421494,0.93310014941205,-0.7869559833939017,-1.4164532441263529,0.2746308489475508,-1.046703716614717,-1.4029691808579423,-2.57993318172644,0.5568031044720521,-0.2041358930421297,-0.7637329948436623,-0.06657214236066139,-0.18518562501636454,-0.3027676984366759,0.41241530906252505,0.012498613049612006,-2.4660209174026084,-0.6232978571758231,-0.32884841909300305,0.265770011696947,-0.448698083473347,-0.44551109833075647,-1.4957894227155062,-0.7502430279991351,-0.11699448944672716,-0.8023192914183559,0.4895216820844289,-0.8431530997170427,-0.34937685225516246,-0.05279439799225999,-1.718180039759325,-1.6084863767504523,-0.49713194674430444,1.696434703396703,1.6772029921896705,1.4615578313681081,-0.27334761987179473,1.4156807841519574,0.5288028918882591,-0.7232595556662942,-0.28238110964114066,-1.285108114755411,-0.40249924294956835,-1.4859861583466047,0.7838567977761841,0.10435891745001347,-1.4783242659722144,-2.4125515636021286,1.2921031181670621,1.1078849275978209,-0.19058335798636103,-0.06256781203480276,-0.2626556005486007,-2.8865308045603775,-0.5193284303657143,1.2136579463703066,0.547689996481218,-1.21854021241897,-0.7427111152179078,1.8369805979536826,0.036823874768508784,-0.1702337931236876,-0.026475300045072293,-0.05379249041374789,0.7633881515458547,1.429045738292194,-1.6636630191023414,-0.13083920482803277,0.739760866889167,0.05105008112747846,1.1617633427708252,-0.42320273065822017,1.486322257339853,-0.13693071690131955,0.9639933363794169,-0.300461264208791,-0.3840670109913465,1.070513286008652,2.9914371412018874,0.2912333841388587,1.5433723502388543,-0.4637741622690752,-0.5598383093509085,-0.013843648325253248,0.1948131197979959,-2.172133780237484,1.397394934488329,-0.9576444229572141,-0.30464190850303047,-0.6611951409262183,0.12595026324468542,0.7194529820531326,0.3869812137090594,1.6798084557753143,0.5256029996273857,-3.2794728060021536,0.026539391348330662,-0.4671235705500926,0.7756978198449701,-0.6473835886706155,-0.6398987350351245,0.4229694814969077,-0.1941915382782859,0.1554140895802577,0.2172614291583217,0.18326392541272038,-1.8075405431213383,0.46155316581554884,-0.8754388302745925,-1.0286928219558917,0.3462855630339466,0.6281712715236869,1.1281743529950585,0.7274313638399829,-1.0470356888618855,0.08035589068500791,0.21951466708132225,0.9758788324278678,0.9231759729603312,1.0582388145883612,0.7587141718899857,-1.148387652134999,1.562898184981687,2.1314752673162474,-1.9172855506828517,0.5887548381182242,0.01705087468847835,0.24471404906028135,1.25704982255356,-0.8498566849708846,-1.1275526953984645,-1.3797811997787208,0.7633136873597267,0.0028885505920296707,-0.565810278647187,-1.9693909912883072,0.3230612540481176,0.9248699229675805,-0.45690381422410575,1.2041485046257299,0.7680662597435908,0.4822019219934572,-0.2242071979335398,-0.4497057887471876,0.8834189901075745,0.40366389135456465,-0.4992182207291488,0.022271260962177474,0.5740150435486276,-0.6980331992195548,0.5845090930103745,0.8785164474623685,-0.41091058003133235,-0.3448300957936841,-1.2685583101851239,0.2388591209602018,0.35793866625311377,-1.0052409005595517,1.9666568314380042,0.4402508749064662,-0.36314402542355423,0.2888084781977062,-1.2287434245205995,1.518199323612002,1.8058052075970712,0.020958677593355072,1.7896514215263823,-0.1153136705874254,-0.21044267873128966,-2.4729375117537944,1.0254918508576458,-1.0883071319324178,0.5432249952491723,-0.1266071090888689,-0.971628042913522,-0.7873148605863399,1.7349259913779589,1.9709277946714552,-0.5090105897661055,1.1074172682670478,1.0851849969638432,-1.5381855802558508,1.1621654731529523,-0.10413894244794637,1.0307954305080815,-0.7266445777359317,-1.2304987352282168,-1.6890995173054415,0.7838076900783277,0.8506501021485378,1.414010969730118,-1.0288371138317565,-1.4604787084205506,0.18163937657473514,0.5548244159894412,0.28344612999622254,-0.29501791500021085,1.3254482730876458,-1.1245269518851144,-1.4026596040561479,2.129090112703398,1.5760810182708536,0.3893355623907753,-0.45996405030590465,-0.9004442665839096,1.9135022772946653,-0.11274801683846583,0.18782775664873902,0.30662969397462825,0.9577942793593799,0.01160026028271023,0.6976436418459379,-0.12627792325062007,-1.6315470610675618,-0.6842624260935382,0.27765184066409593,1.1754929911314318,0.49876433264138076,0.34278972709757993,-1.170910014764809,0.9101308628376951,0.08945736734267462,-0.9223963453419062,0.02615615220876581,0.03406278354097083,0.280035374167911,-0.1371717304785188,-1.2174239388961707,0.23558687630144137,-1.1642424471300494,-0.7257315071842784,0.10616724811690867,0.08894442074690319,-0.3104328508372484,0.23264782040949702,1.070479650929342,1.1387310142849483,0.10901760001541971,-0.07625995553421802,-0.18412582678417025,0.3271763956225195,-1.0396027110775492,-0.5948480185240312,1.2328850384246672,1.5862558528678434,1.7633377290624022,-0.8250338704936722,0.7672370724819321,2.394819576244299,-1.0425722507208586,0.40567029240477986,0.6121203114141002,-1.6250797675037894,-0.06808978790109742,-0.5500126667764862,-0.1563990227700353,-0.3125541306175057,0.915353964876272,0.7346084125635337,0.677972639068999,-0.6353960277834594,0.2940160281205232,0.6996330206017425,-1.003968423447799,0.29781650354500705,-2.010948642386949,-0.312878114327559,-0.8224339093826628,0.3202201911126016,-1.3026486368655434,1.9499411433922091,0.332004672780549,0.9143963645461801,-1.2543937270889254,0.18897723705091268,-1.680897471069792,-3.3055402834333614,-1.0940086924112002,0.3966716536575304,0.14400085418793343,-0.3817752039581627,0.3755632010471298,0.6993029870091373,0.3938977315344408,0.7159352285537195,0.16579506538764807,1.1215416353494356,-0.14767234632255624,-0.6983458127691122,0.019345676212216903,2.2239204223771027,0.30436299152216384,-0.8139555117163036,1.0090655432320705,0.1104139332366668,0.06344790404279697,-0.4223850149597937,-0.4274355549728242,-1.3220587024970307,1.4005139787782612,-1.467547146664638,-0.3269646352908121,1.0716628623370832,0.009841248399906766,-2.4579012887686136,-0.6222683546438071,-1.5877886680969244,1.1955453995609902,0.646897796697455,-0.05080546122267528,-0.9164718921127044,-0.014380276076671476,-0.5782576184851395,-0.6925853644551557,2.2857811212747783,0.5730260953022697,-0.3304661689153124,0.5343320004132376,1.1784034958779297,0.5724688887655262,0.486900131847302,1.5928515566941701,-0.714441265389936,-0.2317117798789254,1.9847871215861466,-0.45992900124286606,0.8034496441784795,-0.3438752539158123,0.45537523788485784,2.190182965557712,-2.358380253459743,-0.42746264371946335,1.1742973441282463,1.233397779131058,0.5872403401062752,1.0250642315884964,-0.26558839648995214,-0.6031550608127577,-0.15089129117194702,0.25890615815907986,-0.4990943713599055,2.0450687002992165,-0.29773989286118085,0.26760834406315215,-1.4286374372820727,-1.3103325221002076,0.3152630473518147,1.8422894505220824,-0.9523241912162512,-1.5081892239991064,1.7694248566718254,-0.6217288405875832,-0.5044135423851834,-1.0305962068252859,-0.7745842041981651,-0.8307156790645885,-0.1760481305804773,1.6281696655744788,-0.3561954055175472,-0.0578142648966468,1.0009084591789892,-0.5301403957704516,2.2309353468059885,0.9180500764791822,-0.007395985574599946,0.4164898440868999,0.7892877075244432,-0.052288762621997636,-0.13986620597740607,0.14727783969615324,0.1318200965070399,-0.5454068058927474,-0.30068360864336124,0.828718789337574,1.5079371503382462,-1.0682197424747388,-1.7678223078472148,-0.6281705071300209,0.5498023767274327,-0.38845887110446825,-0.07764721995667791,0.9538049761031671,-1.0346299729692316,-0.05394921080402772,-1.3012213265760035,-0.4993076479012606,0.17257437784048488,0.1764209116994212,0.14228214335211667,-1.1238838361872874,-0.48518962788323555,0.9652571836582058,0.9107347273024929,0.4124134132880032,-0.7513945650056699,-1.1789337865853549,-0.2910868117917563,0.3093125966373114,-0.5339473751218172,0.014465770981512723,-0.7232779315535258,0.8713561267596831,-1.836143035998997,0.1117428823229774,0.6556552674658873,1.2677573418062549,-0.9741042768613174,-0.08901515372216469,-0.3031511519485478,-1.347509729622036,1.2197539973496643,-0.841457295241923,-1.9667753807308828,1.001075071462788,0.3424456188877749,1.005052912104975,-0.48569465573696685,0.0019224194588347147,0.3066377524143591,1.3346228167149723,-0.22677865024929758,1.2170316118684983,-0.33563955721818,0.09765206300157402,-0.60874992865456,0.5572776790911472,1.4962092895265184,-0.827237924886609,-0.17976100324304278,0.5609566197307714,-1.751843965662652,0.6293990984493966,0.9920871243030978,0.4416721037786293,-0.08618957873406634,0.5046080348496903,0.42549609718522485,-2.134699286915325,0.9003099782169088,-0.04961559719599621,0.9751863562213092,-0.2674495645837627,-0.07355417260654708,-1.1696942562758328,0.18010060301697076,-1.2527601175252479,-0.8563270925652279,-1.0574813478009146,-1.112639799276405,-1.1551097151209455,0.4405459940117039,-0.750467601652612,-0.317483154335774,0.8249984650712155,-0.5701876732467748,0.6553995378983194,-0.39871274973831744,-1.2661759211447272,0.16954030748311916,-1.1154243403506499,1.1282296315049034,-1.5811800604419843,0.2949395620082735,-0.09770845762784591,0.5855403642899043,-1.385904302426362,0.32834465607463525,2.3369491127261095,0.16640778297205555,0.9925103362105889,-0.8948508670797635,0.12334895609652323,0.7218665083226972,1.518220070580375,1.7649905880895753,-0.5084347381978432,-0.20595492887357988,-0.8007499108077758,0.39773704782642216,-0.15548331579922206,-1.315061681935066,0.07618464824386105,0.25739447929536374,1.745598941987634,0.194874365291034,0.05911250496389609,-0.28948571179272903,-0.9782999110586483,-0.35538320287234293,0.9815966179970202,0.1662951056878866,-0.5820312833937138,0.7939957495960576,1.476162027257153,2.6790466975252243,-1.22704803052555,0.6502547702572032,0.30778431285819524,-1.6917214955422117,1.0357027700595753,2.379238160068621,-0.38739311684208066,-0.357585404717076,0.33352329499105793,-0.6757725609723416,-0.6497674881039321,-0.8161278791420461,-0.7365051265370525,0.0891057450949356,-0.2385885271135618,-0.0018178193410681941,-0.5513246290959478,-0.34520199920475164,1.9587122320497294,-0.24394457045633774,0.2201355796950754,2.5068608696024297,-1.4076024613467213,-0.13654570604293417,-1.4852029518717456,0.338079985299944,0.4602511933364773,1.1949739220451057,0.6183307572156174,-0.4973794602715916,0.06743702398363524,2.365559718606251,-0.23970400180227622,0.5163919095228335,-0.8729270031538571,0.2331834407249019,0.6255096843749683,0.5922093714014366,-0.8237494662632757,1.4472541248368962,0.8440366274140236,-0.6910309749681718,0.24890043316598898,0.24048617584832985,0.09452299692786811,-0.15377670827755813,0.0697189323750591,0.17855161193004315,-0.4692564657604673,-0.37323636180318875,-1.13841059123911,1.1958765387430415,1.7580583551615256,-1.4670998293894522,-1.1001933294222122,1.4207296519055757,1.3124408182512006,1.0166768447265326,-1.646920487887373,0.374950166733258,-1.1808715105090333,-0.7740584981834787,-1.652671973004254,1.4967900397223386,0.16688948676304927,-0.7205519870270946,-0.40327576343624016,-0.21117404112998064,-1.2890187157856223,-1.171334307598277,0.8030036517645139,-0.46865925436521555,-0.8356024100639527,0.7514627942863398,0.2872382532766748,0.024765309855821677,1.6303726215134056,-1.4375752283716372,-0.6006607425281789,-0.8401765764915453,-0.677575796934742,0.7211577410129687,-0.12762555671758186,0.06273249644424866,-1.0916424149946988,0.9810897231819052,-0.7257028979239972,0.23825087920656515,-0.9305297950827428,-0.28323103824769347,-0.5157120805774981,-0.0011365546100738564,-1.303528953470802,0.7660158559336598,-1.5887684778869116,0.8382399218987115,0.8134317634346497,1.1587784073995053,-0.24850658159518793,0.20836544459109077,0.3485175690660943,-0.6384722236192818,-1.0792293332059,1.2532608703455108,0.9898062499290697,1.4448654602896491,-1.0663365935903317,0.5570043235671198,0.08262770068635007,0.20038754533767994,-1.070739340191614,-0.7934305376727111,-1.1325117432118106,1.3281842504405805,0.3758740066159437,-0.5850974477882119,0.8115002129659706,0.7465713134666259,-0.9419497293407216,-1.0111466214036773,-0.5420191059250746,0.05357493942736241,-0.40651663315508996,0.8272536316684671,1.013784035971377,0.5495404436874753,0.4289028638008948,0.5289957709013641,-0.0201872787904155,-1.3197257571340602,1.1736405050974803,0.04351147125353086,0.40257920524497326,0.22313602154385928,1.0414058806648654,0.8583769274337546,2.063725220115451,1.9146688097315723,-0.401695336817805,0.3759540651787947,0.6079957277526373,1.3170158752515473,-0.9839024459225852,0.9834221507401596,0.24662775577465057,-0.1352696713090875,-0.77067681915865,0.4878772628850089,0.8653901260390962,-1.0007587963277789,-2.9159717194546375,0.7308323253074573,0.8730312831215934,0.44275618792655835,1.277781595599418,0.36042610021410465,0.663683104009534,0.6962759305286674,1.1298346721925843,-1.1829352628276366,-0.41517482262153127,-0.21746500190190332,-1.0649433460627213,-1.6981084440322582,0.0056513031607572225,0.7142064296800242,-0.48922827563317556,0.14030086189565422,0.7206220659742383,0.10442431449553415,0.23784926327759331,0.6558187022179433,0.4767888934325061,0.7067207214950361,-1.8513114919556037,-0.6397752752176866,-0.40443399207445757,0.939127869049251,1.314371785526899,0.3189407512464143,0.0397581493780525,-0.03201144315348125,-0.426541861945001,0.5003123368218741,0.2725368081378138,0.15751141862398135,-0.5943661499869436,1.169574491897055,0.47136106878441003,-0.7873526724597864,0.6298692276171775,0.5130358717875381,-0.25027787863015416,0.1288522613494617,2.5822128716322617,0.4534934411917305,0.6185227040713991,-1.1234007788722575,0.1749263727523224,-0.5119198515340727,-0.1801728822003164,0.19231811549450387,-0.2141718485894089,0.11774762320505819,-0.6307115652099177,1.6509171209796645,-0.05440032966177964,-0.7897525776992674,0.9401455892450814,-0.5438673532632652,-1.19152827810965,-0.5329386781520568,0.1963728486705991,-0.8668924042955477,0.17527761637073458,-0.4977506812675909,0.08386569545082335,1.1501913893037605,0.35379477778030655,0.3011478462612861,-1.0458832614939044,1.5199594612052796,0.35299460805691496,-1.043909283645229,-0.09931247013701196,-0.3475787642605159,-0.33282249464417757,-0.5787492078058035,-1.4493037527996127],\"type\":\"histogram\"}],                        {\"template\":{\"data\":{\"bar\":[{\"error_x\":{\"color\":\"#2a3f5f\"},\"error_y\":{\"color\":\"#2a3f5f\"},\"marker\":{\"line\":{\"color\":\"#E5ECF6\",\"width\":0.5},\"pattern\":{\"fillmode\":\"overlay\",\"size\":10,\"solidity\":0.2}},\"type\":\"bar\"}],\"barpolar\":[{\"marker\":{\"line\":{\"color\":\"#E5ECF6\",\"width\":0.5},\"pattern\":{\"fillmode\":\"overlay\",\"size\":10,\"solidity\":0.2}},\"type\":\"barpolar\"}],\"carpet\":[{\"aaxis\":{\"endlinecolor\":\"#2a3f5f\",\"gridcolor\":\"white\",\"linecolor\":\"white\",\"minorgridcolor\":\"white\",\"startlinecolor\":\"#2a3f5f\"},\"baxis\":{\"endlinecolor\":\"#2a3f5f\",\"gridcolor\":\"white\",\"linecolor\":\"white\",\"minorgridcolor\":\"white\",\"startlinecolor\":\"#2a3f5f\"},\"type\":\"carpet\"}],\"choropleth\":[{\"colorbar\":{\"outlinewidth\":0,\"ticks\":\"\"},\"type\":\"choropleth\"}],\"contour\":[{\"colorbar\":{\"outlinewidth\":0,\"ticks\":\"\"},\"colorscale\":[[0.0,\"#0d0887\"],[0.1111111111111111,\"#46039f\"],[0.2222222222222222,\"#7201a8\"],[0.3333333333333333,\"#9c179e\"],[0.4444444444444444,\"#bd3786\"],[0.5555555555555556,\"#d8576b\"],[0.6666666666666666,\"#ed7953\"],[0.7777777777777778,\"#fb9f3a\"],[0.8888888888888888,\"#fdca26\"],[1.0,\"#f0f921\"]],\"type\":\"contour\"}],\"contourcarpet\":[{\"colorbar\":{\"outlinewidth\":0,\"ticks\":\"\"},\"type\":\"contourcarpet\"}],\"heatmap\":[{\"colorbar\":{\"outlinewidth\":0,\"ticks\":\"\"},\"colorscale\":[[0.0,\"#0d0887\"],[0.1111111111111111,\"#46039f\"],[0.2222222222222222,\"#7201a8\"],[0.3333333333333333,\"#9c179e\"],[0.4444444444444444,\"#bd3786\"],[0.5555555555555556,\"#d8576b\"],[0.6666666666666666,\"#ed7953\"],[0.7777777777777778,\"#fb9f3a\"],[0.8888888888888888,\"#fdca26\"],[1.0,\"#f0f921\"]],\"type\":\"heatmap\"}],\"heatmapgl\":[{\"colorbar\":{\"outlinewidth\":0,\"ticks\":\"\"},\"colorscale\":[[0.0,\"#0d0887\"],[0.1111111111111111,\"#46039f\"],[0.2222222222222222,\"#7201a8\"],[0.3333333333333333,\"#9c179e\"],[0.4444444444444444,\"#bd3786\"],[0.5555555555555556,\"#d8576b\"],[0.6666666666666666,\"#ed7953\"],[0.7777777777777778,\"#fb9f3a\"],[0.8888888888888888,\"#fdca26\"],[1.0,\"#f0f921\"]],\"type\":\"heatmapgl\"}],\"histogram\":[{\"marker\":{\"pattern\":{\"fillmode\":\"overlay\",\"size\":10,\"solidity\":0.2}},\"type\":\"histogram\"}],\"histogram2d\":[{\"colorbar\":{\"outlinewidth\":0,\"ticks\":\"\"},\"colorscale\":[[0.0,\"#0d0887\"],[0.1111111111111111,\"#46039f\"],[0.2222222222222222,\"#7201a8\"],[0.3333333333333333,\"#9c179e\"],[0.4444444444444444,\"#bd3786\"],[0.5555555555555556,\"#d8576b\"],[0.6666666666666666,\"#ed7953\"],[0.7777777777777778,\"#fb9f3a\"],[0.8888888888888888,\"#fdca26\"],[1.0,\"#f0f921\"]],\"type\":\"histogram2d\"}],\"histogram2dcontour\":[{\"colorbar\":{\"outlinewidth\":0,\"ticks\":\"\"},\"colorscale\":[[0.0,\"#0d0887\"],[0.1111111111111111,\"#46039f\"],[0.2222222222222222,\"#7201a8\"],[0.3333333333333333,\"#9c179e\"],[0.4444444444444444,\"#bd3786\"],[0.5555555555555556,\"#d8576b\"],[0.6666666666666666,\"#ed7953\"],[0.7777777777777778,\"#fb9f3a\"],[0.8888888888888888,\"#fdca26\"],[1.0,\"#f0f921\"]],\"type\":\"histogram2dcontour\"}],\"mesh3d\":[{\"colorbar\":{\"outlinewidth\":0,\"ticks\":\"\"},\"type\":\"mesh3d\"}],\"parcoords\":[{\"line\":{\"colorbar\":{\"outlinewidth\":0,\"ticks\":\"\"}},\"type\":\"parcoords\"}],\"pie\":[{\"automargin\":true,\"type\":\"pie\"}],\"scatter\":[{\"marker\":{\"colorbar\":{\"outlinewidth\":0,\"ticks\":\"\"}},\"type\":\"scatter\"}],\"scatter3d\":[{\"line\":{\"colorbar\":{\"outlinewidth\":0,\"ticks\":\"\"}},\"marker\":{\"colorbar\":{\"outlinewidth\":0,\"ticks\":\"\"}},\"type\":\"scatter3d\"}],\"scattercarpet\":[{\"marker\":{\"colorbar\":{\"outlinewidth\":0,\"ticks\":\"\"}},\"type\":\"scattercarpet\"}],\"scattergeo\":[{\"marker\":{\"colorbar\":{\"outlinewidth\":0,\"ticks\":\"\"}},\"type\":\"scattergeo\"}],\"scattergl\":[{\"marker\":{\"colorbar\":{\"outlinewidth\":0,\"ticks\":\"\"}},\"type\":\"scattergl\"}],\"scattermapbox\":[{\"marker\":{\"colorbar\":{\"outlinewidth\":0,\"ticks\":\"\"}},\"type\":\"scattermapbox\"}],\"scatterpolar\":[{\"marker\":{\"colorbar\":{\"outlinewidth\":0,\"ticks\":\"\"}},\"type\":\"scatterpolar\"}],\"scatterpolargl\":[{\"marker\":{\"colorbar\":{\"outlinewidth\":0,\"ticks\":\"\"}},\"type\":\"scatterpolargl\"}],\"scatterternary\":[{\"marker\":{\"colorbar\":{\"outlinewidth\":0,\"ticks\":\"\"}},\"type\":\"scatterternary\"}],\"surface\":[{\"colorbar\":{\"outlinewidth\":0,\"ticks\":\"\"},\"colorscale\":[[0.0,\"#0d0887\"],[0.1111111111111111,\"#46039f\"],[0.2222222222222222,\"#7201a8\"],[0.3333333333333333,\"#9c179e\"],[0.4444444444444444,\"#bd3786\"],[0.5555555555555556,\"#d8576b\"],[0.6666666666666666,\"#ed7953\"],[0.7777777777777778,\"#fb9f3a\"],[0.8888888888888888,\"#fdca26\"],[1.0,\"#f0f921\"]],\"type\":\"surface\"}],\"table\":[{\"cells\":{\"fill\":{\"color\":\"#EBF0F8\"},\"line\":{\"color\":\"white\"}},\"header\":{\"fill\":{\"color\":\"#C8D4E3\"},\"line\":{\"color\":\"white\"}},\"type\":\"table\"}]},\"layout\":{\"annotationdefaults\":{\"arrowcolor\":\"#2a3f5f\",\"arrowhead\":0,\"arrowwidth\":1},\"autotypenumbers\":\"strict\",\"coloraxis\":{\"colorbar\":{\"outlinewidth\":0,\"ticks\":\"\"}},\"colorscale\":{\"diverging\":[[0,\"#8e0152\"],[0.1,\"#c51b7d\"],[0.2,\"#de77ae\"],[0.3,\"#f1b6da\"],[0.4,\"#fde0ef\"],[0.5,\"#f7f7f7\"],[0.6,\"#e6f5d0\"],[0.7,\"#b8e186\"],[0.8,\"#7fbc41\"],[0.9,\"#4d9221\"],[1,\"#276419\"]],\"sequential\":[[0.0,\"#0d0887\"],[0.1111111111111111,\"#46039f\"],[0.2222222222222222,\"#7201a8\"],[0.3333333333333333,\"#9c179e\"],[0.4444444444444444,\"#bd3786\"],[0.5555555555555556,\"#d8576b\"],[0.6666666666666666,\"#ed7953\"],[0.7777777777777778,\"#fb9f3a\"],[0.8888888888888888,\"#fdca26\"],[1.0,\"#f0f921\"]],\"sequentialminus\":[[0.0,\"#0d0887\"],[0.1111111111111111,\"#46039f\"],[0.2222222222222222,\"#7201a8\"],[0.3333333333333333,\"#9c179e\"],[0.4444444444444444,\"#bd3786\"],[0.5555555555555556,\"#d8576b\"],[0.6666666666666666,\"#ed7953\"],[0.7777777777777778,\"#fb9f3a\"],[0.8888888888888888,\"#fdca26\"],[1.0,\"#f0f921\"]]},\"colorway\":[\"#636efa\",\"#EF553B\",\"#00cc96\",\"#ab63fa\",\"#FFA15A\",\"#19d3f3\",\"#FF6692\",\"#B6E880\",\"#FF97FF\",\"#FECB52\"],\"font\":{\"color\":\"#2a3f5f\"},\"geo\":{\"bgcolor\":\"white\",\"lakecolor\":\"white\",\"landcolor\":\"#E5ECF6\",\"showlakes\":true,\"showland\":true,\"subunitcolor\":\"white\"},\"hoverlabel\":{\"align\":\"left\"},\"hovermode\":\"closest\",\"mapbox\":{\"style\":\"light\"},\"paper_bgcolor\":\"white\",\"plot_bgcolor\":\"#E5ECF6\",\"polar\":{\"angularaxis\":{\"gridcolor\":\"white\",\"linecolor\":\"white\",\"ticks\":\"\"},\"bgcolor\":\"#E5ECF6\",\"radialaxis\":{\"gridcolor\":\"white\",\"linecolor\":\"white\",\"ticks\":\"\"}},\"scene\":{\"xaxis\":{\"backgroundcolor\":\"#E5ECF6\",\"gridcolor\":\"white\",\"gridwidth\":2,\"linecolor\":\"white\",\"showbackground\":true,\"ticks\":\"\",\"zerolinecolor\":\"white\"},\"yaxis\":{\"backgroundcolor\":\"#E5ECF6\",\"gridcolor\":\"white\",\"gridwidth\":2,\"linecolor\":\"white\",\"showbackground\":true,\"ticks\":\"\",\"zerolinecolor\":\"white\"},\"zaxis\":{\"backgroundcolor\":\"#E5ECF6\",\"gridcolor\":\"white\",\"gridwidth\":2,\"linecolor\":\"white\",\"showbackground\":true,\"ticks\":\"\",\"zerolinecolor\":\"white\"}},\"shapedefaults\":{\"line\":{\"color\":\"#2a3f5f\"}},\"ternary\":{\"aaxis\":{\"gridcolor\":\"white\",\"linecolor\":\"white\",\"ticks\":\"\"},\"baxis\":{\"gridcolor\":\"white\",\"linecolor\":\"white\",\"ticks\":\"\"},\"bgcolor\":\"#E5ECF6\",\"caxis\":{\"gridcolor\":\"white\",\"linecolor\":\"white\",\"ticks\":\"\"}},\"title\":{\"x\":0.05},\"xaxis\":{\"automargin\":true,\"gridcolor\":\"white\",\"linecolor\":\"white\",\"ticks\":\"\",\"title\":{\"standoff\":15},\"zerolinecolor\":\"white\",\"zerolinewidth\":2},\"yaxis\":{\"automargin\":true,\"gridcolor\":\"white\",\"linecolor\":\"white\",\"ticks\":\"\",\"title\":{\"standoff\":15},\"zerolinecolor\":\"white\",\"zerolinewidth\":2}}}},                        {\"responsive\": true}                    ).then(function(){\n",
       "                            \n",
       "var gd = document.getElementById('a2009bdc-7fe8-4653-8e4d-6dd1df781f2b');\n",
       "var x = new MutationObserver(function (mutations, observer) {{\n",
       "        var display = window.getComputedStyle(gd).display;\n",
       "        if (!display || display === 'none') {{\n",
       "            console.log([gd, 'removed!']);\n",
       "            Plotly.purge(gd);\n",
       "            observer.disconnect();\n",
       "        }}\n",
       "}});\n",
       "\n",
       "// Listen for the removal of the full notebook cells\n",
       "var notebookContainer = gd.closest('#notebook-container');\n",
       "if (notebookContainer) {{\n",
       "    x.observe(notebookContainer, {childList: true});\n",
       "}}\n",
       "\n",
       "// Listen for the clearing of the current output cell\n",
       "var outputEl = gd.closest('.output');\n",
       "if (outputEl) {{\n",
       "    x.observe(outputEl, {childList: true});\n",
       "}}\n",
       "\n",
       "                        })                };                });            </script>        </div>"
      ]
     },
     "metadata": {},
     "output_type": "display_data"
    }
   ],
   "source": [
    "# create figure\n",
    "fig = go.Figure()\n",
    "\n",
    "# plot data\n",
    "fig.add_trace(\n",
    "    go.Histogram(x=data, hovertemplate=f\"<b>Bin Edges:</b> %{{x}}\")\n",
    ")\n",
    "\n",
    "fig.show()"
   ]
  },
  {
   "cell_type": "code",
   "execution_count": null,
   "id": "578fb4ff-b355-4f48-a634-b229df7bc6f1",
   "metadata": {},
   "outputs": [],
   "source": []
  }
 ],
 "metadata": {
  "kernelspec": {
   "display_name": "Python 3",
   "language": "python",
   "name": "python3"
  },
  "language_info": {
   "codemirror_mode": {
    "name": "ipython",
    "version": 3
   },
   "file_extension": ".py",
   "mimetype": "text/x-python",
   "name": "python",
   "nbconvert_exporter": "python",
   "pygments_lexer": "ipython3",
   "version": "3.7.13"
  }
 },
 "nbformat": 4,
 "nbformat_minor": 5
}
